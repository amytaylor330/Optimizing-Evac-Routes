{
 "cells": [
  {
   "cell_type": "markdown",
   "metadata": {},
   "source": [
    "# Extracting location information from tweets <br>\n",
    "\n",
    "_Author: Bala Krishnamoorthy_"
   ]
  },
  {
   "cell_type": "code",
   "execution_count": 104,
   "metadata": {},
   "outputs": [],
   "source": [
    "import pandas as pd\n",
    "import re"
   ]
  },
  {
   "cell_type": "code",
   "execution_count": 105,
   "metadata": {},
   "outputs": [],
   "source": [
    "tweets_df = pd.read_csv('../data/tweets_with_intersection.csv');"
   ]
  },
  {
   "cell_type": "code",
   "execution_count": null,
   "metadata": {},
   "outputs": [],
   "source": [
    "tweets_df.drop(axis=1, columns='Unnamed: 0', inplace=True)"
   ]
  },
  {
   "cell_type": "code",
   "execution_count": 119,
   "metadata": {},
   "outputs": [
    {
     "data": {
      "text/html": [
       "<div>\n",
       "<style scoped>\n",
       "    .dataframe tbody tr th:only-of-type {\n",
       "        vertical-align: middle;\n",
       "    }\n",
       "\n",
       "    .dataframe tbody tr th {\n",
       "        vertical-align: top;\n",
       "    }\n",
       "\n",
       "    .dataframe thead th {\n",
       "        text-align: right;\n",
       "    }\n",
       "</style>\n",
       "<table border=\"1\" class=\"dataframe\">\n",
       "  <thead>\n",
       "    <tr style=\"text-align: right;\">\n",
       "      <th></th>\n",
       "      <th>text</th>\n",
       "      <th>intersection</th>\n",
       "      <th>coordinates.coordinates</th>\n",
       "      <th>created_at</th>\n",
       "      <th>place.bounding_box.coordinates</th>\n",
       "      <th>place.country</th>\n",
       "      <th>place.country_code</th>\n",
       "      <th>place.full_name</th>\n",
       "      <th>user.created_at</th>\n",
       "      <th>user.location</th>\n",
       "    </tr>\n",
       "  </thead>\n",
       "  <tbody>\n",
       "    <tr>\n",
       "      <th>0</th>\n",
       "      <td>Road construction, left lane closed in #Albuqu...</td>\n",
       "      <td>Tijeras Ave E</td>\n",
       "      <td>[-106.65, 35.08653]</td>\n",
       "      <td>Mon Jan 14 14:56:55 +0000 2019</td>\n",
       "      <td>[[[-106.7916912, 35.0158912], [-106.473745, 35...</td>\n",
       "      <td>United States</td>\n",
       "      <td>US</td>\n",
       "      <td>Albuquerque, NM</td>\n",
       "      <td>Tue Feb 08 23:44:59 +0000 2011</td>\n",
       "      <td>Albuquerque</td>\n",
       "    </tr>\n",
       "    <tr>\n",
       "      <th>1</th>\n",
       "      <td>Road construction. right lanes closed in #Pima...</td>\n",
       "      <td>I-10 EB at Ruthrauff Rd</td>\n",
       "      <td>[-111.0295, 32.29418]</td>\n",
       "      <td>Mon Jan 14 14:31:30 +0000 2019</td>\n",
       "      <td>[[[-111.083219, 32.057802], [-110.747928, 32.0...</td>\n",
       "      <td>United States</td>\n",
       "      <td>US</td>\n",
       "      <td>Tucson, AZ</td>\n",
       "      <td>Thu Feb 10 00:00:33 +0000 2011</td>\n",
       "      <td>Tucson, AZ</td>\n",
       "    </tr>\n",
       "    <tr>\n",
       "      <th>2</th>\n",
       "      <td>Road construction, shoulder closed in #ElPaso ...</td>\n",
       "      <td>I 10 Both EB/WB from Executive Ctr Blvd to Sun...</td>\n",
       "      <td>[-106.52, 31.79295]</td>\n",
       "      <td>Mon Jan 14 14:28:12 +0000 2019</td>\n",
       "      <td>[[[-106.634874, 31.6206683], [-106.199987, 31....</td>\n",
       "      <td>United States</td>\n",
       "      <td>US</td>\n",
       "      <td>El Paso, TX</td>\n",
       "      <td>Thu Feb 10 20:42:54 +0000 2011</td>\n",
       "      <td>El Paso, TX</td>\n",
       "    </tr>\n",
       "    <tr>\n",
       "      <th>3</th>\n",
       "      <td>Ughhh at the dentist for a cleaning and the si...</td>\n",
       "      <td>NaN</td>\n",
       "      <td>NaN</td>\n",
       "      <td>Mon Jan 14 14:08:05 +0000 2019</td>\n",
       "      <td>[[[-86.044756, 41.426657], [-85.9629436, 41.42...</td>\n",
       "      <td>United States</td>\n",
       "      <td>US</td>\n",
       "      <td>Nappanee, IN</td>\n",
       "      <td>Thu Jul 30 19:27:12 +0000 2009</td>\n",
       "      <td>New Paris, IN</td>\n",
       "    </tr>\n",
       "    <tr>\n",
       "      <th>4</th>\n",
       "      <td>Road constructions. two right lanes closed in ...</td>\n",
       "      <td>I-10 EB at Ruthrauff Rd</td>\n",
       "      <td>[-111.0295, 32.29418]</td>\n",
       "      <td>Mon Jan 14 13:49:35 +0000 2019</td>\n",
       "      <td>[[[-111.083219, 32.057802], [-110.747928, 32.0...</td>\n",
       "      <td>United States</td>\n",
       "      <td>US</td>\n",
       "      <td>Tucson, AZ</td>\n",
       "      <td>Thu Feb 10 00:00:33 +0000 2011</td>\n",
       "      <td>Tucson, AZ</td>\n",
       "    </tr>\n",
       "    <tr>\n",
       "      <th>5</th>\n",
       "      <td>All eastbound lanes are closed due to snow and...</td>\n",
       "      <td>Angeles Crest Hwy EB between CA-39 and Big Pin...</td>\n",
       "      <td>[-117.8511, 34.35686]</td>\n",
       "      <td>Mon Jan 14 13:13:00 +0000 2019</td>\n",
       "      <td>[[[-124.482003, 32.528832], [-114.131212, 32.5...</td>\n",
       "      <td>United States</td>\n",
       "      <td>US</td>\n",
       "      <td>California, USA</td>\n",
       "      <td>Wed Aug 12 21:43:18 +0000 2009</td>\n",
       "      <td>Southern California</td>\n",
       "    </tr>\n",
       "  </tbody>\n",
       "</table>\n",
       "</div>"
      ],
      "text/plain": [
       "                                                text  \\\n",
       "0  Road construction, left lane closed in #Albuqu...   \n",
       "1  Road construction. right lanes closed in #Pima...   \n",
       "2  Road construction, shoulder closed in #ElPaso ...   \n",
       "3  Ughhh at the dentist for a cleaning and the si...   \n",
       "4  Road constructions. two right lanes closed in ...   \n",
       "5  All eastbound lanes are closed due to snow and...   \n",
       "\n",
       "                                        intersection coordinates.coordinates  \\\n",
       "0                                      Tijeras Ave E     [-106.65, 35.08653]   \n",
       "1                            I-10 EB at Ruthrauff Rd   [-111.0295, 32.29418]   \n",
       "2  I 10 Both EB/WB from Executive Ctr Blvd to Sun...     [-106.52, 31.79295]   \n",
       "3                                                NaN                     NaN   \n",
       "4                            I-10 EB at Ruthrauff Rd   [-111.0295, 32.29418]   \n",
       "5  Angeles Crest Hwy EB between CA-39 and Big Pin...   [-117.8511, 34.35686]   \n",
       "\n",
       "                       created_at  \\\n",
       "0  Mon Jan 14 14:56:55 +0000 2019   \n",
       "1  Mon Jan 14 14:31:30 +0000 2019   \n",
       "2  Mon Jan 14 14:28:12 +0000 2019   \n",
       "3  Mon Jan 14 14:08:05 +0000 2019   \n",
       "4  Mon Jan 14 13:49:35 +0000 2019   \n",
       "5  Mon Jan 14 13:13:00 +0000 2019   \n",
       "\n",
       "                      place.bounding_box.coordinates  place.country  \\\n",
       "0  [[[-106.7916912, 35.0158912], [-106.473745, 35...  United States   \n",
       "1  [[[-111.083219, 32.057802], [-110.747928, 32.0...  United States   \n",
       "2  [[[-106.634874, 31.6206683], [-106.199987, 31....  United States   \n",
       "3  [[[-86.044756, 41.426657], [-85.9629436, 41.42...  United States   \n",
       "4  [[[-111.083219, 32.057802], [-110.747928, 32.0...  United States   \n",
       "5  [[[-124.482003, 32.528832], [-114.131212, 32.5...  United States   \n",
       "\n",
       "  place.country_code  place.full_name                 user.created_at  \\\n",
       "0                 US  Albuquerque, NM  Tue Feb 08 23:44:59 +0000 2011   \n",
       "1                 US       Tucson, AZ  Thu Feb 10 00:00:33 +0000 2011   \n",
       "2                 US      El Paso, TX  Thu Feb 10 20:42:54 +0000 2011   \n",
       "3                 US     Nappanee, IN  Thu Jul 30 19:27:12 +0000 2009   \n",
       "4                 US       Tucson, AZ  Thu Feb 10 00:00:33 +0000 2011   \n",
       "5                 US  California, USA  Wed Aug 12 21:43:18 +0000 2009   \n",
       "\n",
       "         user.location  \n",
       "0          Albuquerque  \n",
       "1           Tucson, AZ  \n",
       "2          El Paso, TX  \n",
       "3        New Paris, IN  \n",
       "4           Tucson, AZ  \n",
       "5  Southern California  "
      ]
     },
     "execution_count": 119,
     "metadata": {},
     "output_type": "execute_result"
    }
   ],
   "source": [
    "tweets_df.head()"
   ]
  },
  {
   "cell_type": "code",
   "execution_count": 108,
   "metadata": {},
   "outputs": [
    {
     "data": {
      "text/html": [
       "<div>\n",
       "<style scoped>\n",
       "    .dataframe tbody tr th:only-of-type {\n",
       "        vertical-align: middle;\n",
       "    }\n",
       "\n",
       "    .dataframe tbody tr th {\n",
       "        vertical-align: top;\n",
       "    }\n",
       "\n",
       "    .dataframe thead th {\n",
       "        text-align: right;\n",
       "    }\n",
       "</style>\n",
       "<table border=\"1\" class=\"dataframe\">\n",
       "  <thead>\n",
       "    <tr style=\"text-align: right;\">\n",
       "      <th></th>\n",
       "      <th>text</th>\n",
       "      <th>place.bounding_box.coordinates</th>\n",
       "      <th>place.full_name</th>\n",
       "    </tr>\n",
       "  </thead>\n",
       "  <tbody>\n",
       "    <tr>\n",
       "      <th>0</th>\n",
       "      <td>Road construction, left lane closed in #Albuqu...</td>\n",
       "      <td>[[[-106.7916912, 35.0158912], [-106.473745, 35...</td>\n",
       "      <td>Albuquerque, NM</td>\n",
       "    </tr>\n",
       "    <tr>\n",
       "      <th>1</th>\n",
       "      <td>Road construction. right lanes closed in #Pima...</td>\n",
       "      <td>[[[-111.083219, 32.057802], [-110.747928, 32.0...</td>\n",
       "      <td>Tucson, AZ</td>\n",
       "    </tr>\n",
       "    <tr>\n",
       "      <th>2</th>\n",
       "      <td>Road construction, shoulder closed in #ElPaso ...</td>\n",
       "      <td>[[[-106.634874, 31.6206683], [-106.199987, 31....</td>\n",
       "      <td>El Paso, TX</td>\n",
       "    </tr>\n",
       "    <tr>\n",
       "      <th>3</th>\n",
       "      <td>Ughhh at the dentist for a cleaning and the si...</td>\n",
       "      <td>[[[-86.044756, 41.426657], [-85.9629436, 41.42...</td>\n",
       "      <td>Nappanee, IN</td>\n",
       "    </tr>\n",
       "    <tr>\n",
       "      <th>4</th>\n",
       "      <td>Road constructions. two right lanes closed in ...</td>\n",
       "      <td>[[[-111.083219, 32.057802], [-110.747928, 32.0...</td>\n",
       "      <td>Tucson, AZ</td>\n",
       "    </tr>\n",
       "  </tbody>\n",
       "</table>\n",
       "</div>"
      ],
      "text/plain": [
       "                                                text  \\\n",
       "0  Road construction, left lane closed in #Albuqu...   \n",
       "1  Road construction. right lanes closed in #Pima...   \n",
       "2  Road construction, shoulder closed in #ElPaso ...   \n",
       "3  Ughhh at the dentist for a cleaning and the si...   \n",
       "4  Road constructions. two right lanes closed in ...   \n",
       "\n",
       "                      place.bounding_box.coordinates  place.full_name  \n",
       "0  [[[-106.7916912, 35.0158912], [-106.473745, 35...  Albuquerque, NM  \n",
       "1  [[[-111.083219, 32.057802], [-110.747928, 32.0...       Tucson, AZ  \n",
       "2  [[[-106.634874, 31.6206683], [-106.199987, 31....      El Paso, TX  \n",
       "3  [[[-86.044756, 41.426657], [-85.9629436, 41.42...     Nappanee, IN  \n",
       "4  [[[-111.083219, 32.057802], [-110.747928, 32.0...       Tucson, AZ  "
      ]
     },
     "execution_count": 108,
     "metadata": {},
     "output_type": "execute_result"
    }
   ],
   "source": [
    "tweets_df_2 = tweets_df[['text', 'place.bounding_box.coordinates', 'place.full_name']]\n",
    "tweets_df_2.head()"
   ]
  },
  {
   "cell_type": "code",
   "execution_count": 109,
   "metadata": {},
   "outputs": [
    {
     "data": {
      "text/plain": [
       "Fort Worth, TX     13\n",
       "Albuquerque, NM    11\n",
       "San Antonio, TX     7\n",
       "Phoenix, AZ         6\n",
       "El Paso, TX         5\n",
       "Name: place.full_name, dtype: int64"
      ]
     },
     "execution_count": 109,
     "metadata": {},
     "output_type": "execute_result"
    }
   ],
   "source": [
    "# Number of tweets by location \n",
    "tweets_df['place.full_name'].value_counts()[:5]"
   ]
  },
  {
   "cell_type": "markdown",
   "metadata": {},
   "source": [
    "Fort Worth has the most number of tweets about road blockages. Examine tweets from this city. "
   ]
  },
  {
   "cell_type": "code",
   "execution_count": 28,
   "metadata": {
    "collapsed": true
   },
   "outputs": [
    {
     "name": "stdout",
     "output_type": "stream",
     "text": [
      "Road construction. two left lanes closed in #FortWorth on 35W SB between Morningside Dr and E Felix St #DFWTraffic https://t.co/4NzBppXRvr\n",
      "Closed due to road construction in #FortWorth on 35W SB at Pharr, stop and go traffic back to Northside Dr… https://t.co/AyfxrFRbqU\n",
      "Closed due to road construction in #FortWorth on 35W SB at Pharr #DFWTraffic https://t.co/4NzBppXRvr\n",
      "Road construction. two left lanes closed in #FortWorth on 35W SB between Berry St and Seminary Dr #DFWTraffic https://t.co/4NzBppXRvr\n",
      "Road construction. three left lanes closed in #FortWorth on 35W SB between Berry St and Seminary Dr #DFWTraffic https://t.co/4NzBppXRvr\n",
      "Road construction. three left lanes closed in #FortWorth on 35W SB between Morningside Dr and Seminary Dr… https://t.co/mSqz9axgJX\n",
      "Road construction. three left lanes closed in #FortWorth on 35W SB between Allen Ave and Seminary Dr, stop and go... https://t.co/4NzBppXRvr\n",
      "Road construction. two left lanes closed in #FortWorth on 35W SB between Allen Ave and Seminary Dr, stop and go traffic back to Rosedale St\n",
      "Road construction. two left lanes closed in #FortWorth on 35W SB at Allen Ave, stop and go traffic back to Rosedale St, delay of 1 min\n",
      "Road construction, right lane closed in #FortWorth on 30 EB at Chapel Crk Blvd, stop and go traffic back to Spur 580, delay of 11 mins\n",
      "Road construction, right lane closed in #FortWorth on E Lp 820 NB at Ramey Ave, stop and go traffic back to Wilbarger St, delay of 9 mins\n",
      "Road construction, right lane closed in #FortWorth on E Lp 820 NB at Berry St, stop and go traffic back to Wilbarger St, delay of 5 mins\n",
      "Road construction, right lane closed in #FortWorth on 30 EB at Chapel Crk Blvd, stop and go traffic back to Spur 580, delay of 6 mins\n"
     ]
    }
   ],
   "source": [
    "# Fort Worth, TX Tweets as a Series\n",
    "tweets_text_fw = tweets_df[tweets_df['place.full_name'] == 'Fort Worth, TX'][['text']]\n",
    "tweets_text_fw.reset_index(inplace=True, drop=True)\n",
    "tweets_text_fw.head()\n",
    "for i in tweets_text_fw['text']:\n",
    "    print(i)"
   ]
  },
  {
   "cell_type": "markdown",
   "metadata": {},
   "source": [
    "Part 1 - Filter tweets to only use data on closed roads:"
   ]
  },
  {
   "cell_type": "code",
   "execution_count": 92,
   "metadata": {},
   "outputs": [
    {
     "name": "stderr",
     "output_type": "stream",
     "text": [
      "/Users/Bala_K/anaconda3/lib/python3.7/site-packages/ipykernel_launcher.py:10: SettingWithCopyWarning: \n",
      "A value is trying to be set on a copy of a slice from a DataFrame\n",
      "\n",
      "See the caveats in the documentation: http://pandas.pydata.org/pandas-docs/stable/indexing.html#indexing-view-versus-copy\n",
      "  # Remove the CWD from sys.path while we load stuff.\n",
      "/Users/Bala_K/anaconda3/lib/python3.7/site-packages/ipykernel_launcher.py:8: SettingWithCopyWarning: \n",
      "A value is trying to be set on a copy of a slice from a DataFrame\n",
      "\n",
      "See the caveats in the documentation: http://pandas.pydata.org/pandas-docs/stable/indexing.html#indexing-view-versus-copy\n",
      "  \n"
     ]
    }
   ],
   "source": [
    "# Create new column\n",
    "tweets_df['closed_road_check'] = ''\n",
    "# Enter 1 if tweet indicates 'closed road', 0 if not\n",
    "closed_road_indicators = ['Closed due to', 'Road closed']\n",
    "index = 0\n",
    "for i in tweets_df['text']:\n",
    "    if any(x in i for x in closed_road_indicators):\n",
    "        tweets_df['closed_road_check'][index] = 1\n",
    "    else:\n",
    "        tweets_df['closed_road_check'][index] = 0"
   ]
  },
  {
   "cell_type": "code",
   "execution_count": 94,
   "metadata": {
    "collapsed": true
   },
   "outputs": [
    {
     "data": {
      "text/plain": [
       "0      0\n",
       "1       \n",
       "2       \n",
       "3       \n",
       "4       \n",
       "5       \n",
       "6       \n",
       "7       \n",
       "8       \n",
       "9       \n",
       "10      \n",
       "11      \n",
       "12      \n",
       "13      \n",
       "14      \n",
       "15      \n",
       "16      \n",
       "17      \n",
       "18      \n",
       "19      \n",
       "20      \n",
       "21      \n",
       "22      \n",
       "23      \n",
       "24      \n",
       "25      \n",
       "26      \n",
       "27      \n",
       "28      \n",
       "29      \n",
       "      ..\n",
       "113     \n",
       "114     \n",
       "115     \n",
       "116     \n",
       "117     \n",
       "118     \n",
       "119     \n",
       "120     \n",
       "121     \n",
       "122     \n",
       "123     \n",
       "124     \n",
       "125     \n",
       "126     \n",
       "127     \n",
       "128     \n",
       "129     \n",
       "130     \n",
       "131     \n",
       "132     \n",
       "133     \n",
       "134     \n",
       "135     \n",
       "136     \n",
       "137     \n",
       "138     \n",
       "139     \n",
       "140     \n",
       "141     \n",
       "142     \n",
       "Name: closed_road_check, Length: 143, dtype: object"
      ]
     },
     "execution_count": 94,
     "metadata": {},
     "output_type": "execute_result"
    }
   ],
   "source": [
    "tweets_df['closed_road_check']"
   ]
  },
  {
   "cell_type": "markdown",
   "metadata": {},
   "source": [
    "### Filtered Tweets Below (Only Closed Roads)"
   ]
  },
  {
   "cell_type": "code",
   "execution_count": 110,
   "metadata": {},
   "outputs": [],
   "source": [
    "tweets_classed_df = pd.read_csv('../data/2-interim/twitter_corpus.csv', sep='\\t', \n",
    "                                encoding='latin-1')\n",
    "tweets_classed_df.drop(axis=1, columns='tweed_id', inplace=True)"
   ]
  },
  {
   "cell_type": "code",
   "execution_count": null,
   "metadata": {},
   "outputs": [],
   "source": [
    "tweets_classed_df.head()"
   ]
  },
  {
   "cell_type": "code",
   "execution_count": 129,
   "metadata": {},
   "outputs": [
    {
     "data": {
      "text/html": [
       "<div>\n",
       "<style scoped>\n",
       "    .dataframe tbody tr th:only-of-type {\n",
       "        vertical-align: middle;\n",
       "    }\n",
       "\n",
       "    .dataframe tbody tr th {\n",
       "        vertical-align: top;\n",
       "    }\n",
       "\n",
       "    .dataframe thead th {\n",
       "        text-align: right;\n",
       "    }\n",
       "</style>\n",
       "<table border=\"1\" class=\"dataframe\">\n",
       "  <thead>\n",
       "    <tr style=\"text-align: right;\">\n",
       "      <th></th>\n",
       "      <th>rating</th>\n",
       "      <th>tweet</th>\n",
       "    </tr>\n",
       "  </thead>\n",
       "  <tbody>\n",
       "    <tr>\n",
       "      <th>5</th>\n",
       "      <td>2</td>\n",
       "      <td>All eastbound lanes are closed due to snow and...</td>\n",
       "    </tr>\n",
       "    <tr>\n",
       "      <th>10</th>\n",
       "      <td>2</td>\n",
       "      <td>The drainage project on Center Street in #Vine...</td>\n",
       "    </tr>\n",
       "    <tr>\n",
       "      <th>11</th>\n",
       "      <td>2</td>\n",
       "      <td>Closed due to road construction in #FortWorth ...</td>\n",
       "    </tr>\n",
       "    <tr>\n",
       "      <th>12</th>\n",
       "      <td>2</td>\n",
       "      <td>Closed due to road construction in #FortWorth ...</td>\n",
       "    </tr>\n",
       "    <tr>\n",
       "      <th>15</th>\n",
       "      <td>2</td>\n",
       "      <td>Closed due to road construction in #Evergreen ...</td>\n",
       "    </tr>\n",
       "  </tbody>\n",
       "</table>\n",
       "</div>"
      ],
      "text/plain": [
       "    rating                                              tweet\n",
       "5        2  All eastbound lanes are closed due to snow and...\n",
       "10       2  The drainage project on Center Street in #Vine...\n",
       "11       2  Closed due to road construction in #FortWorth ...\n",
       "12       2  Closed due to road construction in #FortWorth ...\n",
       "15       2  Closed due to road construction in #Evergreen ..."
      ]
     },
     "execution_count": 129,
     "metadata": {},
     "output_type": "execute_result"
    }
   ],
   "source": [
    "# 2 = closed\n",
    "final_tweets_df = tweets_classed_df[tweets_classed_df['rating'] == 2]\n",
    "final_tweets_df.head()"
   ]
  },
  {
   "cell_type": "code",
   "execution_count": 130,
   "metadata": {},
   "outputs": [],
   "source": [
    "# Combine with original df (join by index) to pull city info\n",
    "final_tweets_df = pd.merge(final_tweets_df, tweets_df, left_index=True, \n",
    "                           right_index=True)"
   ]
  },
  {
   "cell_type": "code",
   "execution_count": 134,
   "metadata": {},
   "outputs": [],
   "source": [
    "final_tweets_df = final_tweets_df[['tweet','created_at',\n",
    "                                   'place.bounding_box.coordinates','place.full_name']]\n",
    "final_tweets_df.reset_index(drop=True, inplace=True)"
   ]
  },
  {
   "cell_type": "code",
   "execution_count": 135,
   "metadata": {},
   "outputs": [
    {
     "data": {
      "text/html": [
       "<div>\n",
       "<style scoped>\n",
       "    .dataframe tbody tr th:only-of-type {\n",
       "        vertical-align: middle;\n",
       "    }\n",
       "\n",
       "    .dataframe tbody tr th {\n",
       "        vertical-align: top;\n",
       "    }\n",
       "\n",
       "    .dataframe thead th {\n",
       "        text-align: right;\n",
       "    }\n",
       "</style>\n",
       "<table border=\"1\" class=\"dataframe\">\n",
       "  <thead>\n",
       "    <tr style=\"text-align: right;\">\n",
       "      <th></th>\n",
       "      <th>tweet</th>\n",
       "      <th>created_at</th>\n",
       "      <th>place.bounding_box.coordinates</th>\n",
       "      <th>place.full_name</th>\n",
       "    </tr>\n",
       "  </thead>\n",
       "  <tbody>\n",
       "    <tr>\n",
       "      <th>0</th>\n",
       "      <td>All eastbound lanes are closed due to snow and...</td>\n",
       "      <td>Mon Jan 14 13:13:00 +0000 2019</td>\n",
       "      <td>[[[-124.482003, 32.528832], [-114.131212, 32.5...</td>\n",
       "      <td>California, USA</td>\n",
       "    </tr>\n",
       "    <tr>\n",
       "      <th>1</th>\n",
       "      <td>The drainage project on Center Street in #Vine...</td>\n",
       "      <td>Mon Jan 14 11:23:01 +0000 2019</td>\n",
       "      <td>[[[-70.62084, 41.4245617], [-70.586828, 41.424...</td>\n",
       "      <td>Vineyard Haven, MA</td>\n",
       "    </tr>\n",
       "    <tr>\n",
       "      <th>2</th>\n",
       "      <td>Closed due to road construction in #FortWorth ...</td>\n",
       "      <td>Mon Jan 14 10:33:20 +0000 2019</td>\n",
       "      <td>[[[-97.538285, 32.569477], [-97.033542, 32.569...</td>\n",
       "      <td>Fort Worth, TX</td>\n",
       "    </tr>\n",
       "    <tr>\n",
       "      <th>3</th>\n",
       "      <td>Closed due to road construction in #FortWorth ...</td>\n",
       "      <td>Mon Jan 14 10:32:16 +0000 2019</td>\n",
       "      <td>[[[-97.538285, 32.569477], [-97.033542, 32.569...</td>\n",
       "      <td>Fort Worth, TX</td>\n",
       "    </tr>\n",
       "    <tr>\n",
       "      <th>4</th>\n",
       "      <td>Closed due to road construction in #Evergreen ...</td>\n",
       "      <td>Mon Jan 14 04:43:56 +0000 2019</td>\n",
       "      <td>[[[-109.060257, 36.992427], [-102.041524, 36.9...</td>\n",
       "      <td>Colorado, USA</td>\n",
       "    </tr>\n",
       "  </tbody>\n",
       "</table>\n",
       "</div>"
      ],
      "text/plain": [
       "                                               tweet  \\\n",
       "0  All eastbound lanes are closed due to snow and...   \n",
       "1  The drainage project on Center Street in #Vine...   \n",
       "2  Closed due to road construction in #FortWorth ...   \n",
       "3  Closed due to road construction in #FortWorth ...   \n",
       "4  Closed due to road construction in #Evergreen ...   \n",
       "\n",
       "                       created_at  \\\n",
       "0  Mon Jan 14 13:13:00 +0000 2019   \n",
       "1  Mon Jan 14 11:23:01 +0000 2019   \n",
       "2  Mon Jan 14 10:33:20 +0000 2019   \n",
       "3  Mon Jan 14 10:32:16 +0000 2019   \n",
       "4  Mon Jan 14 04:43:56 +0000 2019   \n",
       "\n",
       "                      place.bounding_box.coordinates     place.full_name  \n",
       "0  [[[-124.482003, 32.528832], [-114.131212, 32.5...     California, USA  \n",
       "1  [[[-70.62084, 41.4245617], [-70.586828, 41.424...  Vineyard Haven, MA  \n",
       "2  [[[-97.538285, 32.569477], [-97.033542, 32.569...      Fort Worth, TX  \n",
       "3  [[[-97.538285, 32.569477], [-97.033542, 32.569...      Fort Worth, TX  \n",
       "4  [[[-109.060257, 36.992427], [-102.041524, 36.9...       Colorado, USA  "
      ]
     },
     "execution_count": 135,
     "metadata": {},
     "output_type": "execute_result"
    }
   ],
   "source": [
    "final_tweets_df.head()"
   ]
  },
  {
   "cell_type": "code",
   "execution_count": 136,
   "metadata": {},
   "outputs": [
    {
     "data": {
      "text/plain": [
       "Phoenix, AZ            6\n",
       "Houston, TX            4\n",
       "California, USA        4\n",
       "Oak Ridge North, TX    3\n",
       "San Antonio, TX        3\n",
       "South Valley, NM       2\n",
       "Fort Worth, TX         2\n",
       "Mobile, AL             2\n",
       "Albuquerque, NM        2\n",
       "Arizona, USA           2\n",
       "Revere, MA             1\n",
       "Buffalo, NY            1\n",
       "Pennsylvania, USA      1\n",
       "Indiana, USA           1\n",
       "Golden Glades, FL      1\n",
       "Montgomery, AL         1\n",
       "Silver Spring, MD      1\n",
       "Tuscaloosa, AL         1\n",
       "Ohio, USA              1\n",
       "Brooklyn, NY           1\n",
       "Colorado, USA          1\n",
       "Thousand Oaks, CA      1\n",
       "Seattle, WA            1\n",
       "Norland, FL            1\n",
       "Coral Springs, FL      1\n",
       "Suffield, CT           1\n",
       "Marysville, WA         1\n",
       "Massachusetts, USA     1\n",
       "Cambridge, MA          1\n",
       "Nipomo, CA             1\n",
       "Davie, FL              1\n",
       "Oxford, AL             1\n",
       "Vineyard Haven, MA     1\n",
       "Irondale, AL           1\n",
       "Alabama, USA           1\n",
       "Appleton, WI           1\n",
       "Charlotte, NC          1\n",
       "Fair Oaks Ranch, TX    1\n",
       "Name: place.full_name, dtype: int64"
      ]
     },
     "execution_count": 136,
     "metadata": {},
     "output_type": "execute_result"
    }
   ],
   "source": [
    "final_tweets_df['place.full_name'].value_counts()"
   ]
  },
  {
   "cell_type": "markdown",
   "metadata": {},
   "source": [
    "Regex Step 2 - Extract street information:"
   ]
  },
  {
   "cell_type": "markdown",
   "metadata": {},
   "source": [
    "2.1: Isolate street names and intersections"
   ]
  },
  {
   "cell_type": "markdown",
   "metadata": {},
   "source": [
    "#### Choose City in Code Block Below"
   ]
  },
  {
   "cell_type": "code",
   "execution_count": 246,
   "metadata": {},
   "outputs": [],
   "source": [
    "city = 'Houston, TX'\n",
    "city_tweets = final_tweets_df[final_tweets_df['place.full_name'] == city]['tweet']\n",
    "city_tweets.reset_index(drop=True, inplace=True)\n",
    "intersection_list = []\n",
    "bbox"
   ]
  },
  {
   "cell_type": "code",
   "execution_count": 278,
   "metadata": {},
   "outputs": [
    {
     "name": "stdout",
     "output_type": "stream",
     "text": [
      "bbox_top_left (lat,long): 30.1546646,-95.823268\n",
      "bbox_bottom_right (lat,long): 29.522325,-95.069705\n"
     ]
    }
   ],
   "source": [
    "# Extract bounding box (i.e. bbox) for chosen city -- Needed to extract HereMaps data for same\n",
    "# city\n",
    "bbox_raw = eval(final_tweets_df[final_tweets_df['place.full_name'] == city]\\\n",
    "['place.bounding_box.coordinates'][6])[0]\n",
    "\n",
    "# twitter bbox is always defined by 4 corners of the bbox\n",
    "bbox_top_left = str(bbox_raw[3][1]) + ',' + str(bbox_raw[3][0])\n",
    "bbox_bottom_right = str(bbox_raw[1][1]) + ',' + str(bbox_raw[1][0])\n",
    "print('bbox_top_left (lat,long):', bbox_top_left)\n",
    "print('bbox_bottom_right (lat,long):', bbox_bottom_right)"
   ]
  },
  {
   "cell_type": "code",
   "execution_count": 247,
   "metadata": {},
   "outputs": [
    {
     "name": "stdout",
     "output_type": "stream",
     "text": [
      "intersection list: [['288 S Fwy NB at The S Lp, stopped traffic back to Reed Rd. '], ['S Sam Houston Tollway EB between Hwy 288 and Cullen '], ['S Sam Houston Tollway EB between Hwy 288 and Cullen '], ['S Sam Houston Tollway EB between Hwy 288 and Cullen ']]\n",
      "\n",
      "number of tweets available: 4\n",
      "number of patterns found: 4\n"
     ]
    }
   ],
   "source": [
    "# Generate string of \"useful\" tweets\n",
    "for i in range(city_tweets.shape[0]):\n",
    "    # Regex Pattern 1\n",
    "    intersection_list.append(re.findall(' on (.+)[#]', city_tweets[i]))\n",
    "    if i == (city_tweets.shape[0] - 1):\n",
    "        print('intersection list:', intersection_list)\n",
    "        print()\n",
    "        print('number of tweets available:', city_tweets.shape[0])\n",
    "        print('number of patterns found:', len(intersection_list))"
   ]
  },
  {
   "cell_type": "code",
   "execution_count": 178,
   "metadata": {},
   "outputs": [
    {
     "name": "stdout",
     "output_type": "stream",
     "text": [
      "updated intersection list: ['288 S Fwy NB at The S Lp, stopped traffic back to Reed Rd. ', 'S Sam Houston Tollway EB between Hwy 288 and Cullen ', 'S Sam Houston Tollway EB between Hwy 288 and Cullen ', 'S Sam Houston Tollway EB between Hwy 288 and Cullen ']\n"
     ]
    }
   ],
   "source": [
    "# Convert list of lists to list of strings\n",
    "intersection_list_2 = []\n",
    "\n",
    "for i in intersection_list:\n",
    "    intersection_list_2.append(i[0])\n",
    "\n",
    "print('updated intersection list:', intersection_list_2)"
   ]
  },
  {
   "cell_type": "markdown",
   "metadata": {},
   "source": [
    "Regex 2.2: Use text data to create start and end points"
   ]
  },
  {
   "cell_type": "code",
   "execution_count": 211,
   "metadata": {},
   "outputs": [
    {
     "data": {
      "text/plain": [
       "['288 S Fwy NB ', ' The S Lp, stopped traffic back to Reed Rd. ']"
      ]
     },
     "execution_count": 211,
     "metadata": {},
     "output_type": "execute_result"
    }
   ],
   "source": [
    "temp = intersection_list_2[0].split('at')\n",
    "temp_2 = temp[]\n",
    "temp_2 = temp[0] + '&' + temp_"
   ]
  },
  {
   "cell_type": "code",
   "execution_count": 226,
   "metadata": {},
   "outputs": [
    {
     "data": {
      "text/html": [
       "<div>\n",
       "<style scoped>\n",
       "    .dataframe tbody tr th:only-of-type {\n",
       "        vertical-align: middle;\n",
       "    }\n",
       "\n",
       "    .dataframe tbody tr th {\n",
       "        vertical-align: top;\n",
       "    }\n",
       "\n",
       "    .dataframe thead th {\n",
       "        text-align: right;\n",
       "    }\n",
       "</style>\n",
       "<table border=\"1\" class=\"dataframe\">\n",
       "  <thead>\n",
       "    <tr style=\"text-align: right;\">\n",
       "      <th></th>\n",
       "      <th>city</th>\n",
       "      <th>start</th>\n",
       "      <th>end</th>\n",
       "      <th>tweet</th>\n",
       "    </tr>\n",
       "  </thead>\n",
       "  <tbody>\n",
       "    <tr>\n",
       "      <th>0</th>\n",
       "      <td></td>\n",
       "      <td></td>\n",
       "      <td></td>\n",
       "      <td></td>\n",
       "    </tr>\n",
       "    <tr>\n",
       "      <th>1</th>\n",
       "      <td></td>\n",
       "      <td></td>\n",
       "      <td></td>\n",
       "      <td></td>\n",
       "    </tr>\n",
       "    <tr>\n",
       "      <th>2</th>\n",
       "      <td></td>\n",
       "      <td></td>\n",
       "      <td></td>\n",
       "      <td></td>\n",
       "    </tr>\n",
       "    <tr>\n",
       "      <th>3</th>\n",
       "      <td></td>\n",
       "      <td></td>\n",
       "      <td></td>\n",
       "      <td></td>\n",
       "    </tr>\n",
       "  </tbody>\n",
       "</table>\n",
       "</div>"
      ],
      "text/plain": [
       "  city start end tweet\n",
       "0                     \n",
       "1                     \n",
       "2                     \n",
       "3                     "
      ]
     },
     "execution_count": 226,
     "metadata": {},
     "output_type": "execute_result"
    }
   ],
   "source": [
    "# Instantiate df to hold output intersections\n",
    "columns = ['city', 'start', 'end', 'tweet']\n",
    "output_tweets_df = pd.DataFrame(index=range(len(city_tweets)), columns=columns)\n",
    "output_tweets_df.fillna('', inplace=True)\n",
    "output_tweets_df"
   ]
  },
  {
   "cell_type": "code",
   "execution_count": 227,
   "metadata": {},
   "outputs": [
    {
     "data": {
      "text/html": [
       "<div>\n",
       "<style scoped>\n",
       "    .dataframe tbody tr th:only-of-type {\n",
       "        vertical-align: middle;\n",
       "    }\n",
       "\n",
       "    .dataframe tbody tr th {\n",
       "        vertical-align: top;\n",
       "    }\n",
       "\n",
       "    .dataframe thead th {\n",
       "        text-align: right;\n",
       "    }\n",
       "</style>\n",
       "<table border=\"1\" class=\"dataframe\">\n",
       "  <thead>\n",
       "    <tr style=\"text-align: right;\">\n",
       "      <th></th>\n",
       "      <th>city</th>\n",
       "      <th>start</th>\n",
       "      <th>end</th>\n",
       "      <th>tweet</th>\n",
       "    </tr>\n",
       "  </thead>\n",
       "  <tbody>\n",
       "    <tr>\n",
       "      <th>0</th>\n",
       "      <td>Houston, TX</td>\n",
       "      <td></td>\n",
       "      <td></td>\n",
       "      <td></td>\n",
       "    </tr>\n",
       "    <tr>\n",
       "      <th>1</th>\n",
       "      <td>Houston, TX</td>\n",
       "      <td></td>\n",
       "      <td></td>\n",
       "      <td></td>\n",
       "    </tr>\n",
       "    <tr>\n",
       "      <th>2</th>\n",
       "      <td>Houston, TX</td>\n",
       "      <td></td>\n",
       "      <td></td>\n",
       "      <td></td>\n",
       "    </tr>\n",
       "    <tr>\n",
       "      <th>3</th>\n",
       "      <td>Houston, TX</td>\n",
       "      <td></td>\n",
       "      <td></td>\n",
       "      <td></td>\n",
       "    </tr>\n",
       "  </tbody>\n",
       "</table>\n",
       "</div>"
      ],
      "text/plain": [
       "          city start end tweet\n",
       "0  Houston, TX                \n",
       "1  Houston, TX                \n",
       "2  Houston, TX                \n",
       "3  Houston, TX                "
      ]
     },
     "execution_count": 227,
     "metadata": {},
     "output_type": "execute_result"
    }
   ],
   "source": [
    "output_tweets_df.loc[:, 'city'] = city\n",
    "output_tweets_df"
   ]
  },
  {
   "cell_type": "code",
   "execution_count": 228,
   "metadata": {},
   "outputs": [
    {
     "name": "stdout",
     "output_type": "stream",
     "text": [
      "288 S Fwy NB at The S Lp, stopped traffic back to Reed Rd. \n",
      "start: 288 S Fwy NB &  The S Lp\n",
      "end: 288 S Fwy NB &  stopped traffic back to Reed Rd. \n",
      "\n",
      "S Sam Houston Tollway EB between Hwy 288 and Cullen \n",
      "start: S Sam Houston Tollway EB & Hwy 288 \n",
      "end: S Sam Houston Tollway EB & Cullen \n",
      "\n",
      "S Sam Houston Tollway EB between Hwy 288 and Cullen \n",
      "start: S Sam Houston Tollway EB & Hwy 288 \n",
      "end: S Sam Houston Tollway EB & Cullen \n",
      "\n",
      "S Sam Houston Tollway EB between Hwy 288 and Cullen \n",
      "start: S Sam Houston Tollway EB & Hwy 288 \n",
      "end: S Sam Houston Tollway EB & Cullen \n",
      "\n"
     ]
    }
   ],
   "source": [
    "index = 0\n",
    "for string in intersection_list_2:\n",
    "    print(string)\n",
    "    output_tweets_df.loc[index, 'tweet'] = city_tweets[index]\n",
    "    # Pattern 1\n",
    "    if 'between' in string:\n",
    "        split_1 = string.split('between') # Split on 'between' first\n",
    "        split_2 = split_1[1].split('and')\n",
    "        start = split_1[0] + '&' + split_2[0]\n",
    "        end = split_1[0] + '&' + split_2[1]\n",
    "        output_tweets_df.loc[index, 'start'] = start\n",
    "        output_tweets_df.loc[index, 'end'] = end\n",
    "        print('start:', start)\n",
    "        print('end:', end)\n",
    "    # Pattern 2\n",
    "    elif 'at' in string:\n",
    "        split_1 = string.split('at') # Split on 'at' first\n",
    "        split_2 = split_1[1].split(',')\n",
    "        start = split_1[0] + '& ' + split_2[0]\n",
    "        end = split_1[0] + '& ' + split_2[1]\n",
    "        output_tweets_df.loc[index, 'start'] = start\n",
    "        output_tweets_df.loc[index, 'end'] = end\n",
    "        print('start:', start)\n",
    "        print('end:', end)\n",
    "    else:\n",
    "        print('no matching patterns found for tweet at index:')\n",
    "    index += 1\n",
    "    print()"
   ]
  },
  {
   "cell_type": "code",
   "execution_count": 229,
   "metadata": {},
   "outputs": [
    {
     "data": {
      "text/html": [
       "<div>\n",
       "<style scoped>\n",
       "    .dataframe tbody tr th:only-of-type {\n",
       "        vertical-align: middle;\n",
       "    }\n",
       "\n",
       "    .dataframe tbody tr th {\n",
       "        vertical-align: top;\n",
       "    }\n",
       "\n",
       "    .dataframe thead th {\n",
       "        text-align: right;\n",
       "    }\n",
       "</style>\n",
       "<table border=\"1\" class=\"dataframe\">\n",
       "  <thead>\n",
       "    <tr style=\"text-align: right;\">\n",
       "      <th></th>\n",
       "      <th>city</th>\n",
       "      <th>start</th>\n",
       "      <th>end</th>\n",
       "      <th>tweet</th>\n",
       "    </tr>\n",
       "  </thead>\n",
       "  <tbody>\n",
       "    <tr>\n",
       "      <th>0</th>\n",
       "      <td>Houston, TX</td>\n",
       "      <td>288 S Fwy NB &amp;  The S Lp</td>\n",
       "      <td>288 S Fwy NB &amp;  stopped traffic back to Reed Rd.</td>\n",
       "      <td>Closed due to road construction on 288 S Fwy N...</td>\n",
       "    </tr>\n",
       "    <tr>\n",
       "      <th>1</th>\n",
       "      <td>Houston, TX</td>\n",
       "      <td>S Sam Houston Tollway EB &amp; Hwy 288</td>\n",
       "      <td>S Sam Houston Tollway EB &amp; Cullen</td>\n",
       "      <td>Closed due to road construction in #Southside ...</td>\n",
       "    </tr>\n",
       "    <tr>\n",
       "      <th>2</th>\n",
       "      <td>Houston, TX</td>\n",
       "      <td>S Sam Houston Tollway EB &amp; Hwy 288</td>\n",
       "      <td>S Sam Houston Tollway EB &amp; Cullen</td>\n",
       "      <td>Closed due to road construction in #Southside ...</td>\n",
       "    </tr>\n",
       "    <tr>\n",
       "      <th>3</th>\n",
       "      <td>Houston, TX</td>\n",
       "      <td>S Sam Houston Tollway EB &amp; Hwy 288</td>\n",
       "      <td>S Sam Houston Tollway EB &amp; Cullen</td>\n",
       "      <td>Closed due to road construction in #Southside ...</td>\n",
       "    </tr>\n",
       "  </tbody>\n",
       "</table>\n",
       "</div>"
      ],
      "text/plain": [
       "          city                                start  \\\n",
       "0  Houston, TX             288 S Fwy NB &  The S Lp   \n",
       "1  Houston, TX  S Sam Houston Tollway EB & Hwy 288    \n",
       "2  Houston, TX  S Sam Houston Tollway EB & Hwy 288    \n",
       "3  Houston, TX  S Sam Houston Tollway EB & Hwy 288    \n",
       "\n",
       "                                                 end  \\\n",
       "0  288 S Fwy NB &  stopped traffic back to Reed Rd.    \n",
       "1                 S Sam Houston Tollway EB & Cullen    \n",
       "2                 S Sam Houston Tollway EB & Cullen    \n",
       "3                 S Sam Houston Tollway EB & Cullen    \n",
       "\n",
       "                                               tweet  \n",
       "0  Closed due to road construction on 288 S Fwy N...  \n",
       "1  Closed due to road construction in #Southside ...  \n",
       "2  Closed due to road construction in #Southside ...  \n",
       "3  Closed due to road construction in #Southside ...  "
      ]
     },
     "execution_count": 229,
     "metadata": {},
     "output_type": "execute_result"
    }
   ],
   "source": [
    "# View\n",
    "output_tweets_df"
   ]
  },
  {
   "cell_type": "code",
   "execution_count": 242,
   "metadata": {},
   "outputs": [],
   "source": [
    "# Final Clean up (maual)\n",
    "output_tweets_df.loc[0, 'end'] = output_tweets_df.loc[0, 'end'].replace('  stopped traffic back to', '')"
   ]
  },
  {
   "cell_type": "markdown",
   "metadata": {},
   "source": [
    "#### Final Output"
   ]
  },
  {
   "cell_type": "code",
   "execution_count": 249,
   "metadata": {},
   "outputs": [
    {
     "data": {
      "text/html": [
       "<div>\n",
       "<style scoped>\n",
       "    .dataframe tbody tr th:only-of-type {\n",
       "        vertical-align: middle;\n",
       "    }\n",
       "\n",
       "    .dataframe tbody tr th {\n",
       "        vertical-align: top;\n",
       "    }\n",
       "\n",
       "    .dataframe thead th {\n",
       "        text-align: right;\n",
       "    }\n",
       "</style>\n",
       "<table border=\"1\" class=\"dataframe\">\n",
       "  <thead>\n",
       "    <tr style=\"text-align: right;\">\n",
       "      <th></th>\n",
       "      <th>city</th>\n",
       "      <th>start</th>\n",
       "      <th>end</th>\n",
       "      <th>tweet</th>\n",
       "    </tr>\n",
       "  </thead>\n",
       "  <tbody>\n",
       "    <tr>\n",
       "      <th>0</th>\n",
       "      <td>Houston, TX</td>\n",
       "      <td>288 S Fwy NB &amp;  The S Lp</td>\n",
       "      <td>288 S Fwy NB &amp; Reed Rd.</td>\n",
       "      <td>Closed due to road construction on 288 S Fwy N...</td>\n",
       "    </tr>\n",
       "    <tr>\n",
       "      <th>1</th>\n",
       "      <td>Houston, TX</td>\n",
       "      <td>S Sam Houston Tollway EB &amp; Hwy 288</td>\n",
       "      <td>S Sam Houston Tollway EB &amp; Cullen</td>\n",
       "      <td>Closed due to road construction in #Southside ...</td>\n",
       "    </tr>\n",
       "  </tbody>\n",
       "</table>\n",
       "</div>"
      ],
      "text/plain": [
       "          city                                start  \\\n",
       "0  Houston, TX             288 S Fwy NB &  The S Lp   \n",
       "1  Houston, TX  S Sam Houston Tollway EB & Hwy 288    \n",
       "\n",
       "                                  end  \\\n",
       "0            288 S Fwy NB & Reed Rd.    \n",
       "1  S Sam Houston Tollway EB & Cullen    \n",
       "\n",
       "                                               tweet  \n",
       "0  Closed due to road construction on 288 S Fwy N...  \n",
       "1  Closed due to road construction in #Southside ...  "
      ]
     },
     "execution_count": 249,
     "metadata": {},
     "output_type": "execute_result"
    }
   ],
   "source": [
    "output_tweets_df.drop_duplicates(inplace=True)\n",
    "output_tweets_df"
   ]
  },
  {
   "cell_type": "code",
   "execution_count": 251,
   "metadata": {},
   "outputs": [],
   "source": [
    "output_tweets_df.to_csv('../data/3-final/output_tweets', index=False)"
   ]
  }
 ],
 "metadata": {
  "kernelspec": {
   "display_name": "Python [conda env:root]",
   "language": "python",
   "name": "conda-root-py"
  },
  "language_info": {
   "codemirror_mode": {
    "name": "ipython",
    "version": 3
   },
   "file_extension": ".py",
   "mimetype": "text/x-python",
   "name": "python",
   "nbconvert_exporter": "python",
   "pygments_lexer": "ipython3",
   "version": "3.7.1"
  },
  "varInspector": {
   "cols": {
    "lenName": 16,
    "lenType": 16,
    "lenVar": 40
   },
   "kernels_config": {
    "python": {
     "delete_cmd_postfix": "",
     "delete_cmd_prefix": "del ",
     "library": "var_list.py",
     "varRefreshCmd": "print(var_dic_list())"
    },
    "r": {
     "delete_cmd_postfix": ") ",
     "delete_cmd_prefix": "rm(",
     "library": "var_list.r",
     "varRefreshCmd": "cat(var_dic_list()) "
    }
   },
   "types_to_exclude": [
    "module",
    "function",
    "builtin_function_or_method",
    "instance",
    "_Feature"
   ],
   "window_display": false
  }
 },
 "nbformat": 4,
 "nbformat_minor": 2
}
