{
 "cells": [
  {
   "cell_type": "markdown",
   "metadata": {},
   "source": [
    "# Extracting Data from here.com\n",
    "<br>\n",
    "\n",
    "Author: Bala Krishnamoorthy"
   ]
  },
  {
   "cell_type": "markdown",
   "metadata": {},
   "source": [
    "#### Goal\n",
    "\n",
    "Access here.com's api to extract information on road closures, incidents, etc."
   ]
  },
  {
   "cell_type": "markdown",
   "metadata": {},
   "source": [
    "### Data Gathering"
   ]
  },
  {
   "cell_type": "code",
   "execution_count": 11,
   "metadata": {},
   "outputs": [],
   "source": [
    "# Import Libraries\n",
    "\n",
    "import json, requests\n",
    "import time, datetime\n",
    "import pandas as pd\n",
    "\n",
    "# Viewing configs for notebook\n",
    "%matplotlib inline\n",
    "%config InlineBackend.print_figure_kwargs={'facecolor' : 'w'}\n",
    "# Code below allows console outputs to be generated without print statements\n",
    "from IPython.core.interactiveshell import InteractiveShell \n",
    "InteractiveShell.ast_node_interactivity = \"all\""
   ]
  },
  {
   "cell_type": "code",
   "execution_count": 12,
   "metadata": {},
   "outputs": [],
   "source": [
    "# Imports my API credentials stored locally. These are **not** publically available. To use\n",
    "# the API access code below, please create your own access credentials on here.com and execute\n",
    "# the code below. \n",
    "import config "
   ]
  },
  {
   "cell_type": "markdown",
   "metadata": {},
   "source": [
    "HereMaps' sample json url with **minor** traffic incidents: `'https://traffic.api.here.com/traffic/6.3/incidents.json?app_id=kKO1TymnU3jWeGbnQkdR&app_code=Zy8aSE1vfxrpfiX0jgYHOQ&bbox=52.516,13.355;52.511,13.400&criticality=minor'`\n",
    "\n",
    "Location: Somewhere in Germany"
   ]
  },
  {
   "cell_type": "code",
   "execution_count": 13,
   "metadata": {},
   "outputs": [],
   "source": [
    "# City Coordinates\n",
    "\n",
    "# Boston\n",
    "top_left = '42.366,-71.066;'\n",
    "bot_right = '42.329,-71.033'"
   ]
  },
  {
   "cell_type": "code",
   "execution_count": 14,
   "metadata": {},
   "outputs": [
    {
     "data": {
      "text/plain": [
       "'https://traffic.api.here.com/traffic/6.3/incidents.json?app_id=kKO1TymnU3jWeGbnQkdR&app_code=Zy8aSE1vfxrpfiX0jgYHOQ&bbox=42.366,-71.066;42.329,-71.033'"
      ]
     },
     "execution_count": 14,
     "metadata": {},
     "output_type": "execute_result"
    }
   ],
   "source": [
    "url = 'https://traffic.api.here.com/traffic/6.3/\\\n",
    "incidents.json?app_id=' + config.app_id + '&app_code=' + config.app_code + '&bbox=' + \\\n",
    "top_left + bot_right\n",
    "url"
   ]
  },
  {
   "cell_type": "code",
   "execution_count": 15,
   "metadata": {},
   "outputs": [],
   "source": [
    "res = requests.get(url)"
   ]
  },
  {
   "cell_type": "code",
   "execution_count": 16,
   "metadata": {},
   "outputs": [
    {
     "data": {
      "text/plain": [
       "200"
      ]
     },
     "execution_count": 16,
     "metadata": {},
     "output_type": "execute_result"
    }
   ],
   "source": [
    "res.status_code"
   ]
  },
  {
   "cell_type": "code",
   "execution_count": 26,
   "metadata": {
    "collapsed": true
   },
   "outputs": [
    {
     "data": {
      "text/plain": [
       "{'TIMESTAMP': '01/11/2019 22:02:17 GMT',\n",
       " 'VERSION': 2.4,\n",
       " 'TRAFFIC_ITEMS': {'TRAFFIC_ITEM': [{'TRAFFIC_ITEM_ID': 4569300205414887358,\n",
       "    'ORIGINAL_TRAFFIC_ITEM_ID': 3018985707296936927,\n",
       "    'TRAFFIC_ITEM_STATUS_SHORT_DESC': 'ACTIVE',\n",
       "    'TRAFFIC_ITEM_TYPE_DESC': 'ROAD_CLOSURE',\n",
       "    'START_TIME': '01/11/2019 21:40:54',\n",
       "    'END_TIME': '01/12/2019 02:38:51',\n",
       "    'ENTRY_TIME': '01/11/2019 21:40:54',\n",
       "    'CRITICALITY': {'ID': '0', 'DESCRIPTION': 'critical'},\n",
       "    'VERIFIED': True,\n",
       "    'ABBREVIATION': {'SHORT_DESC': 'CLOS', 'DESCRIPTION': ''},\n",
       "    'LOCATION': {'INTERSECTION': {'ORIGIN': {'ID': '',\n",
       "       'STREET1': {'ADDRESS1': 'Friend St'},\n",
       "       'STREET2': {'ADDRESS1': 'Causeway St'},\n",
       "       'COUNTY': 'Suffolk',\n",
       "       'STATE': '',\n",
       "       'PROXIMITY': {'ID': 'MID', 'DESCRIPTION': 'midway between'}},\n",
       "      'TO': {'ID': '',\n",
       "       'STREET1': {'ADDRESS1': 'Friend St'},\n",
       "       'STREET2': {'ADDRESS1': 'Anthony Rip Valenti Way'},\n",
       "       'COUNTY': 'Suffolk',\n",
       "       'STATE': '',\n",
       "       'PROXIMITY': {'ID': 'MID', 'DESCRIPTION': 'midway between'}}},\n",
       "     'GEOLOC': {'ORIGIN': {'LATITUDE': 42.3652, 'LONGITUDE': -71.06181},\n",
       "      'TO': [{'LATITUDE': 42.36398, 'LONGITUDE': -71.06049}],\n",
       "      'GEOMETRY': {'SHAPES': {'SHP': [{'value': '42.3652,-71.06181 42.36398,-71.06049',\n",
       "          'FC': 5,\n",
       "          'LID': '22013455T',\n",
       "          'LE': 173.749167315973,\n",
       "          'FW': 'SD'}]}}},\n",
       "     'POLITICAL_BOUNDARY': {'METRO_AREA': {'value': '', 'ID': 18},\n",
       "      'COUNTY': 'Suffolk',\n",
       "      'MUNICIPALITY': {'NAME': 'Boston'}},\n",
       "     'NAVTECH': {'EDGE': {'EDGE_ID': ['22013455']}, 'VERSION_ID': '201804'},\n",
       "     'LENGTH': 0.10796},\n",
       "    'TRAFFIC_ITEM_DETAIL': {'ROAD_CLOSED': True,\n",
       "     'INCIDENT': {'RESPONSE_VEHICLES': False,\n",
       "      'MISCELLANEOUS_INCIDENT': {'MISCELLANEOUS_TYPE_DESC': ''}},\n",
       "     'ALERTC': [{'EVENT_CODE': 401}]},\n",
       "    'TRAFFIC_ITEM_DESCRIPTION': [{'value': 'Closed between Causeway St and Anthony Rip Valenti Way - Closed.',\n",
       "      'TYPE': 'short_desc'},\n",
       "     {'value': 'Closed between Causeway St and Anthony Rip Valenti Way - Closed.',\n",
       "      'TYPE': 'desc'},\n",
       "     {'value': 'Closed.', 'TYPE': 'no_exit_description'}],\n",
       "    'mid': 'NAVTEQ/r_NAVTEQ/11090482_TIC/NAVTEQ|1547242848562',\n",
       "    'PRODUCT': 'basic'},\n",
       "   {'TRAFFIC_ITEM_ID': 1037353930832550411,\n",
       "    'ORIGINAL_TRAFFIC_ITEM_ID': 1037353930832550411,\n",
       "    'TRAFFIC_ITEM_STATUS_SHORT_DESC': 'ACTIVE',\n",
       "    'TRAFFIC_ITEM_TYPE_DESC': 'CONSTRUCTION',\n",
       "    'START_TIME': '01/11/2019 09:39:20',\n",
       "    'END_TIME': '01/15/2019 09:38:51',\n",
       "    'ENTRY_TIME': '01/11/2019 09:39:20',\n",
       "    'CRITICALITY': {'ID': '2', 'DESCRIPTION': 'minor'},\n",
       "    'VERIFIED': True,\n",
       "    'ABBREVIATION': {'SHORT_DESC': 'CONST', 'DESCRIPTION': 'construction'},\n",
       "    'LOCATION': {'INTERSECTION': {'ORIGIN': {'ID': '',\n",
       "       'STREET1': {'ADDRESS1': '5th St'},\n",
       "       'STREET2': {'ADDRESS1': 'E St'},\n",
       "       'COUNTY': 'Suffolk',\n",
       "       'STATE': '',\n",
       "       'PROXIMITY': {'ID': 'MID', 'DESCRIPTION': 'midway between'}},\n",
       "      'TO': {'ID': '',\n",
       "       'STREET1': {'ADDRESS1': '5th St'},\n",
       "       'STREET2': {'ADDRESS1': 'F St'},\n",
       "       'COUNTY': 'Suffolk',\n",
       "       'STATE': '',\n",
       "       'PROXIMITY': {'ID': 'MID', 'DESCRIPTION': 'midway between'}}},\n",
       "     'GEOLOC': {'ORIGIN': {'LATITUDE': 42.33651, 'LONGITUDE': -71.05085},\n",
       "      'TO': [{'LATITUDE': 42.3355, 'LONGITUDE': -71.04929}],\n",
       "      'GEOMETRY': {'SHAPES': {'SHP': [{'value': '42.33651,-71.05085 42.3355,-71.04929',\n",
       "          'FC': 5,\n",
       "          'LID': '22013004T',\n",
       "          'LE': 170.63320337979098,\n",
       "          'FW': 'SD'}]}}},\n",
       "     'TPEGOpenLRBase64': 'CCkBEAAlJM15lh4bIAAJBQQEA10ACgUEBIErAACc/5sACQUEBAPdADAAAA==',\n",
       "     'POLITICAL_BOUNDARY': {'METRO_AREA': {'value': '', 'ID': 18},\n",
       "      'COUNTY': 'Suffolk',\n",
       "      'MUNICIPALITY': {'NAME': 'Boston'}},\n",
       "     'NAVTECH': {'EDGE': {'EDGE_ID': ['22013004']}, 'VERSION_ID': '201804'},\n",
       "     'LENGTH': 0.10602},\n",
       "    'TRAFFIC_ITEM_DETAIL': {'ROAD_CLOSED': False,\n",
       "     'EVENT': {'EVENT_ITEM_CANCELLED': False,\n",
       "      'SCHEDULED_CONSTRUCTION_EVENT': {'SCHEDULED_CONSTRUCTION_TYPE_DESC': 'CONSTRUCTION',\n",
       "       'SCHEDULED_CONSTRUCTION_DETAIL': 'construction'}},\n",
       "     'ALERTC': [{'EVENT_CODE': 803}]},\n",
       "    'TRAFFIC_ITEM_DESCRIPTION': [{'value': 'Between E St and F St - Construction work.',\n",
       "      'TYPE': 'short_desc'},\n",
       "     {'value': 'Between E St and F St - Construction work.', 'TYPE': 'desc'},\n",
       "     {'value': 'Construction work.', 'TYPE': 'no_exit_description'}],\n",
       "    'mid': 'NAVTEQ/r_NAVTEQ/11431707_TIC/NAVTEQ|1547199531854',\n",
       "    'PRODUCT': 'basic'}]},\n",
       " 'diagnostic': {'info': '',\n",
       "  'sfile': 'Incident-A0129-1547244137855.xml.gz',\n",
       "  'pdd': 'e09cc239-0d9e-4f39-aa91-d916df206d82'},\n",
       " 'TIMESTAMP2': '2019-01-11T22:02:17.000+0000',\n",
       " 'EXTENDED_COUNTRY_CODE': 'A0'}"
      ]
     },
     "execution_count": 26,
     "metadata": {},
     "output_type": "execute_result"
    }
   ],
   "source": [
    "hmaps_json = res.json()\n",
    "hmaps_json"
   ]
  },
  {
   "cell_type": "code",
   "execution_count": 48,
   "metadata": {
    "collapsed": true
   },
   "outputs": [
    {
     "data": {
      "text/plain": [
       "dict_keys(['TIMESTAMP', 'VERSION', 'TRAFFIC_ITEMS', 'diagnostic', 'TIMESTAMP2', 'EXTENDED_COUNTRY_CODE'])"
      ]
     },
     "execution_count": 48,
     "metadata": {},
     "output_type": "execute_result"
    },
    {
     "data": {
      "text/plain": [
       "dict_keys(['TRAFFIC_ITEM'])"
      ]
     },
     "execution_count": 48,
     "metadata": {},
     "output_type": "execute_result"
    },
    {
     "data": {
      "text/plain": [
       "dict_keys(['info', 'sfile', 'pdd'])"
      ]
     },
     "execution_count": 48,
     "metadata": {},
     "output_type": "execute_result"
    },
    {
     "data": {
      "text/plain": [
       "[{'TRAFFIC_ITEM_ID': 4569300205414887358,\n",
       "  'ORIGINAL_TRAFFIC_ITEM_ID': 3018985707296936927,\n",
       "  'TRAFFIC_ITEM_STATUS_SHORT_DESC': 'ACTIVE',\n",
       "  'TRAFFIC_ITEM_TYPE_DESC': 'ROAD_CLOSURE',\n",
       "  'START_TIME': '01/11/2019 21:40:54',\n",
       "  'END_TIME': '01/12/2019 02:38:51',\n",
       "  'ENTRY_TIME': '01/11/2019 21:40:54',\n",
       "  'CRITICALITY': {'ID': '0', 'DESCRIPTION': 'critical'},\n",
       "  'VERIFIED': True,\n",
       "  'ABBREVIATION': {'SHORT_DESC': 'CLOS', 'DESCRIPTION': ''},\n",
       "  'LOCATION': {'INTERSECTION': {'ORIGIN': {'ID': '',\n",
       "     'STREET1': {'ADDRESS1': 'Friend St'},\n",
       "     'STREET2': {'ADDRESS1': 'Causeway St'},\n",
       "     'COUNTY': 'Suffolk',\n",
       "     'STATE': '',\n",
       "     'PROXIMITY': {'ID': 'MID', 'DESCRIPTION': 'midway between'}},\n",
       "    'TO': {'ID': '',\n",
       "     'STREET1': {'ADDRESS1': 'Friend St'},\n",
       "     'STREET2': {'ADDRESS1': 'Anthony Rip Valenti Way'},\n",
       "     'COUNTY': 'Suffolk',\n",
       "     'STATE': '',\n",
       "     'PROXIMITY': {'ID': 'MID', 'DESCRIPTION': 'midway between'}}},\n",
       "   'GEOLOC': {'ORIGIN': {'LATITUDE': 42.3652, 'LONGITUDE': -71.06181},\n",
       "    'TO': [{'LATITUDE': 42.36398, 'LONGITUDE': -71.06049}],\n",
       "    'GEOMETRY': {'SHAPES': {'SHP': [{'value': '42.3652,-71.06181 42.36398,-71.06049',\n",
       "        'FC': 5,\n",
       "        'LID': '22013455T',\n",
       "        'LE': 173.749167315973,\n",
       "        'FW': 'SD'}]}}},\n",
       "   'POLITICAL_BOUNDARY': {'METRO_AREA': {'value': '', 'ID': 18},\n",
       "    'COUNTY': 'Suffolk',\n",
       "    'MUNICIPALITY': {'NAME': 'Boston'}},\n",
       "   'NAVTECH': {'EDGE': {'EDGE_ID': ['22013455']}, 'VERSION_ID': '201804'},\n",
       "   'LENGTH': 0.10796},\n",
       "  'TRAFFIC_ITEM_DETAIL': {'ROAD_CLOSED': True,\n",
       "   'INCIDENT': {'RESPONSE_VEHICLES': False,\n",
       "    'MISCELLANEOUS_INCIDENT': {'MISCELLANEOUS_TYPE_DESC': ''}},\n",
       "   'ALERTC': [{'EVENT_CODE': 401}]},\n",
       "  'TRAFFIC_ITEM_DESCRIPTION': [{'value': 'Closed between Causeway St and Anthony Rip Valenti Way - Closed.',\n",
       "    'TYPE': 'short_desc'},\n",
       "   {'value': 'Closed between Causeway St and Anthony Rip Valenti Way - Closed.',\n",
       "    'TYPE': 'desc'},\n",
       "   {'value': 'Closed.', 'TYPE': 'no_exit_description'}],\n",
       "  'mid': 'NAVTEQ/r_NAVTEQ/11090482_TIC/NAVTEQ|1547242848562',\n",
       "  'PRODUCT': 'basic'},\n",
       " {'TRAFFIC_ITEM_ID': 1037353930832550411,\n",
       "  'ORIGINAL_TRAFFIC_ITEM_ID': 1037353930832550411,\n",
       "  'TRAFFIC_ITEM_STATUS_SHORT_DESC': 'ACTIVE',\n",
       "  'TRAFFIC_ITEM_TYPE_DESC': 'CONSTRUCTION',\n",
       "  'START_TIME': '01/11/2019 09:39:20',\n",
       "  'END_TIME': '01/15/2019 09:38:51',\n",
       "  'ENTRY_TIME': '01/11/2019 09:39:20',\n",
       "  'CRITICALITY': {'ID': '2', 'DESCRIPTION': 'minor'},\n",
       "  'VERIFIED': True,\n",
       "  'ABBREVIATION': {'SHORT_DESC': 'CONST', 'DESCRIPTION': 'construction'},\n",
       "  'LOCATION': {'INTERSECTION': {'ORIGIN': {'ID': '',\n",
       "     'STREET1': {'ADDRESS1': '5th St'},\n",
       "     'STREET2': {'ADDRESS1': 'E St'},\n",
       "     'COUNTY': 'Suffolk',\n",
       "     'STATE': '',\n",
       "     'PROXIMITY': {'ID': 'MID', 'DESCRIPTION': 'midway between'}},\n",
       "    'TO': {'ID': '',\n",
       "     'STREET1': {'ADDRESS1': '5th St'},\n",
       "     'STREET2': {'ADDRESS1': 'F St'},\n",
       "     'COUNTY': 'Suffolk',\n",
       "     'STATE': '',\n",
       "     'PROXIMITY': {'ID': 'MID', 'DESCRIPTION': 'midway between'}}},\n",
       "   'GEOLOC': {'ORIGIN': {'LATITUDE': 42.33651, 'LONGITUDE': -71.05085},\n",
       "    'TO': [{'LATITUDE': 42.3355, 'LONGITUDE': -71.04929}],\n",
       "    'GEOMETRY': {'SHAPES': {'SHP': [{'value': '42.33651,-71.05085 42.3355,-71.04929',\n",
       "        'FC': 5,\n",
       "        'LID': '22013004T',\n",
       "        'LE': 170.63320337979098,\n",
       "        'FW': 'SD'}]}}},\n",
       "   'TPEGOpenLRBase64': 'CCkBEAAlJM15lh4bIAAJBQQEA10ACgUEBIErAACc/5sACQUEBAPdADAAAA==',\n",
       "   'POLITICAL_BOUNDARY': {'METRO_AREA': {'value': '', 'ID': 18},\n",
       "    'COUNTY': 'Suffolk',\n",
       "    'MUNICIPALITY': {'NAME': 'Boston'}},\n",
       "   'NAVTECH': {'EDGE': {'EDGE_ID': ['22013004']}, 'VERSION_ID': '201804'},\n",
       "   'LENGTH': 0.10602},\n",
       "  'TRAFFIC_ITEM_DETAIL': {'ROAD_CLOSED': False,\n",
       "   'EVENT': {'EVENT_ITEM_CANCELLED': False,\n",
       "    'SCHEDULED_CONSTRUCTION_EVENT': {'SCHEDULED_CONSTRUCTION_TYPE_DESC': 'CONSTRUCTION',\n",
       "     'SCHEDULED_CONSTRUCTION_DETAIL': 'construction'}},\n",
       "   'ALERTC': [{'EVENT_CODE': 803}]},\n",
       "  'TRAFFIC_ITEM_DESCRIPTION': [{'value': 'Between E St and F St - Construction work.',\n",
       "    'TYPE': 'short_desc'},\n",
       "   {'value': 'Between E St and F St - Construction work.', 'TYPE': 'desc'},\n",
       "   {'value': 'Construction work.', 'TYPE': 'no_exit_description'}],\n",
       "  'mid': 'NAVTEQ/r_NAVTEQ/11431707_TIC/NAVTEQ|1547199531854',\n",
       "  'PRODUCT': 'basic'}]"
      ]
     },
     "execution_count": 48,
     "metadata": {},
     "output_type": "execute_result"
    }
   ],
   "source": [
    "# Inspect json file\n",
    "hmaps_json.keys()\n",
    "hmaps_json['TRAFFIC_ITEMS'].keys()\n",
    "hmaps_json['diagnostic'].keys()\n",
    "hmaps_json['TRAFFIC_ITEMS']['TRAFFIC_ITEM']"
   ]
  },
  {
   "cell_type": "code",
   "execution_count": 52,
   "metadata": {},
   "outputs": [
    {
     "data": {
      "text/plain": [
       "dict_keys(['TRAFFIC_ITEM_ID', 'ORIGINAL_TRAFFIC_ITEM_ID', 'TRAFFIC_ITEM_STATUS_SHORT_DESC', 'TRAFFIC_ITEM_TYPE_DESC', 'START_TIME', 'END_TIME', 'ENTRY_TIME', 'CRITICALITY', 'VERIFIED', 'ABBREVIATION', 'LOCATION', 'TRAFFIC_ITEM_DETAIL', 'TRAFFIC_ITEM_DESCRIPTION', 'mid', 'PRODUCT'])"
      ]
     },
     "execution_count": 52,
     "metadata": {},
     "output_type": "execute_result"
    }
   ],
   "source": [
    "incident_dict = hmaps_json['TRAFFIC_ITEMS']['TRAFFIC_ITEM']\n",
    "incident_dict[0].keys()"
   ]
  },
  {
   "cell_type": "code",
   "execution_count": 53,
   "metadata": {},
   "outputs": [
    {
     "data": {
      "text/html": [
       "<div>\n",
       "<style scoped>\n",
       "    .dataframe tbody tr th:only-of-type {\n",
       "        vertical-align: middle;\n",
       "    }\n",
       "\n",
       "    .dataframe tbody tr th {\n",
       "        vertical-align: top;\n",
       "    }\n",
       "\n",
       "    .dataframe thead th {\n",
       "        text-align: right;\n",
       "    }\n",
       "</style>\n",
       "<table border=\"1\" class=\"dataframe\">\n",
       "  <thead>\n",
       "    <tr style=\"text-align: right;\">\n",
       "      <th></th>\n",
       "      <th>ABBREVIATION</th>\n",
       "      <th>CRITICALITY</th>\n",
       "      <th>END_TIME</th>\n",
       "      <th>ENTRY_TIME</th>\n",
       "      <th>LOCATION</th>\n",
       "      <th>ORIGINAL_TRAFFIC_ITEM_ID</th>\n",
       "      <th>PRODUCT</th>\n",
       "      <th>START_TIME</th>\n",
       "      <th>TRAFFIC_ITEM_DESCRIPTION</th>\n",
       "      <th>TRAFFIC_ITEM_DETAIL</th>\n",
       "      <th>TRAFFIC_ITEM_ID</th>\n",
       "      <th>TRAFFIC_ITEM_STATUS_SHORT_DESC</th>\n",
       "      <th>TRAFFIC_ITEM_TYPE_DESC</th>\n",
       "      <th>VERIFIED</th>\n",
       "      <th>mid</th>\n",
       "    </tr>\n",
       "  </thead>\n",
       "  <tbody>\n",
       "    <tr>\n",
       "      <th>0</th>\n",
       "      <td>{'SHORT_DESC': 'CLOS', 'DESCRIPTION': ''}</td>\n",
       "      <td>{'ID': '0', 'DESCRIPTION': 'critical'}</td>\n",
       "      <td>01/12/2019 02:38:51</td>\n",
       "      <td>01/11/2019 21:40:54</td>\n",
       "      <td>{'INTERSECTION': {'ORIGIN': {'ID': '', 'STREET...</td>\n",
       "      <td>3018985707296936927</td>\n",
       "      <td>basic</td>\n",
       "      <td>01/11/2019 21:40:54</td>\n",
       "      <td>[{'value': 'Closed between Causeway St and Ant...</td>\n",
       "      <td>{'ROAD_CLOSED': True, 'INCIDENT': {'RESPONSE_V...</td>\n",
       "      <td>4569300205414887358</td>\n",
       "      <td>ACTIVE</td>\n",
       "      <td>ROAD_CLOSURE</td>\n",
       "      <td>True</td>\n",
       "      <td>NAVTEQ/r_NAVTEQ/11090482_TIC/NAVTEQ|1547242848562</td>\n",
       "    </tr>\n",
       "    <tr>\n",
       "      <th>1</th>\n",
       "      <td>{'SHORT_DESC': 'CONST', 'DESCRIPTION': 'constr...</td>\n",
       "      <td>{'ID': '2', 'DESCRIPTION': 'minor'}</td>\n",
       "      <td>01/15/2019 09:38:51</td>\n",
       "      <td>01/11/2019 09:39:20</td>\n",
       "      <td>{'INTERSECTION': {'ORIGIN': {'ID': '', 'STREET...</td>\n",
       "      <td>1037353930832550411</td>\n",
       "      <td>basic</td>\n",
       "      <td>01/11/2019 09:39:20</td>\n",
       "      <td>[{'value': 'Between E St and F St - Constructi...</td>\n",
       "      <td>{'ROAD_CLOSED': False, 'EVENT': {'EVENT_ITEM_C...</td>\n",
       "      <td>1037353930832550411</td>\n",
       "      <td>ACTIVE</td>\n",
       "      <td>CONSTRUCTION</td>\n",
       "      <td>True</td>\n",
       "      <td>NAVTEQ/r_NAVTEQ/11431707_TIC/NAVTEQ|1547199531854</td>\n",
       "    </tr>\n",
       "  </tbody>\n",
       "</table>\n",
       "</div>"
      ],
      "text/plain": [
       "                                        ABBREVIATION  \\\n",
       "0          {'SHORT_DESC': 'CLOS', 'DESCRIPTION': ''}   \n",
       "1  {'SHORT_DESC': 'CONST', 'DESCRIPTION': 'constr...   \n",
       "\n",
       "                              CRITICALITY             END_TIME  \\\n",
       "0  {'ID': '0', 'DESCRIPTION': 'critical'}  01/12/2019 02:38:51   \n",
       "1     {'ID': '2', 'DESCRIPTION': 'minor'}  01/15/2019 09:38:51   \n",
       "\n",
       "            ENTRY_TIME                                           LOCATION  \\\n",
       "0  01/11/2019 21:40:54  {'INTERSECTION': {'ORIGIN': {'ID': '', 'STREET...   \n",
       "1  01/11/2019 09:39:20  {'INTERSECTION': {'ORIGIN': {'ID': '', 'STREET...   \n",
       "\n",
       "   ORIGINAL_TRAFFIC_ITEM_ID PRODUCT           START_TIME  \\\n",
       "0       3018985707296936927   basic  01/11/2019 21:40:54   \n",
       "1       1037353930832550411   basic  01/11/2019 09:39:20   \n",
       "\n",
       "                            TRAFFIC_ITEM_DESCRIPTION  \\\n",
       "0  [{'value': 'Closed between Causeway St and Ant...   \n",
       "1  [{'value': 'Between E St and F St - Constructi...   \n",
       "\n",
       "                                 TRAFFIC_ITEM_DETAIL      TRAFFIC_ITEM_ID  \\\n",
       "0  {'ROAD_CLOSED': True, 'INCIDENT': {'RESPONSE_V...  4569300205414887358   \n",
       "1  {'ROAD_CLOSED': False, 'EVENT': {'EVENT_ITEM_C...  1037353930832550411   \n",
       "\n",
       "  TRAFFIC_ITEM_STATUS_SHORT_DESC TRAFFIC_ITEM_TYPE_DESC  VERIFIED  \\\n",
       "0                         ACTIVE           ROAD_CLOSURE      True   \n",
       "1                         ACTIVE           CONSTRUCTION      True   \n",
       "\n",
       "                                                 mid  \n",
       "0  NAVTEQ/r_NAVTEQ/11090482_TIC/NAVTEQ|1547242848562  \n",
       "1  NAVTEQ/r_NAVTEQ/11431707_TIC/NAVTEQ|1547199531854  "
      ]
     },
     "execution_count": 53,
     "metadata": {},
     "output_type": "execute_result"
    },
    {
     "data": {
      "text/plain": [
       "(2, 15)"
      ]
     },
     "execution_count": 53,
     "metadata": {},
     "output_type": "execute_result"
    }
   ],
   "source": [
    "incident_df = pd.DataFrame(incident_dict)\n",
    "incident_df.head()\n",
    "incident_df.shape"
   ]
  },
  {
   "cell_type": "code",
   "execution_count": null,
   "metadata": {},
   "outputs": [],
   "source": [
    "# Only two entries in specified bounding box"
   ]
  },
  {
   "cell_type": "code",
   "execution_count": 56,
   "metadata": {},
   "outputs": [
    {
     "data": {
      "text/html": [
       "<div>\n",
       "<style scoped>\n",
       "    .dataframe tbody tr th:only-of-type {\n",
       "        vertical-align: middle;\n",
       "    }\n",
       "\n",
       "    .dataframe tbody tr th {\n",
       "        vertical-align: top;\n",
       "    }\n",
       "\n",
       "    .dataframe thead th {\n",
       "        text-align: right;\n",
       "    }\n",
       "</style>\n",
       "<table border=\"1\" class=\"dataframe\">\n",
       "  <thead>\n",
       "    <tr style=\"text-align: right;\">\n",
       "      <th></th>\n",
       "      <th>CRITICALITY</th>\n",
       "      <th>END_TIME</th>\n",
       "      <th>ENTRY_TIME</th>\n",
       "      <th>LOCATION</th>\n",
       "      <th>START_TIME</th>\n",
       "      <th>TRAFFIC_ITEM_DESCRIPTION</th>\n",
       "      <th>TRAFFIC_ITEM_DETAIL</th>\n",
       "      <th>TRAFFIC_ITEM_STATUS_SHORT_DESC</th>\n",
       "      <th>TRAFFIC_ITEM_TYPE_DESC</th>\n",
       "      <th>VERIFIED</th>\n",
       "    </tr>\n",
       "  </thead>\n",
       "  <tbody>\n",
       "    <tr>\n",
       "      <th>0</th>\n",
       "      <td>{'ID': '0', 'DESCRIPTION': 'critical'}</td>\n",
       "      <td>01/12/2019 02:38:51</td>\n",
       "      <td>01/11/2019 21:40:54</td>\n",
       "      <td>{'INTERSECTION': {'ORIGIN': {'ID': '', 'STREET...</td>\n",
       "      <td>01/11/2019 21:40:54</td>\n",
       "      <td>[{'value': 'Closed between Causeway St and Ant...</td>\n",
       "      <td>{'ROAD_CLOSED': True, 'INCIDENT': {'RESPONSE_V...</td>\n",
       "      <td>ACTIVE</td>\n",
       "      <td>ROAD_CLOSURE</td>\n",
       "      <td>True</td>\n",
       "    </tr>\n",
       "    <tr>\n",
       "      <th>1</th>\n",
       "      <td>{'ID': '2', 'DESCRIPTION': 'minor'}</td>\n",
       "      <td>01/15/2019 09:38:51</td>\n",
       "      <td>01/11/2019 09:39:20</td>\n",
       "      <td>{'INTERSECTION': {'ORIGIN': {'ID': '', 'STREET...</td>\n",
       "      <td>01/11/2019 09:39:20</td>\n",
       "      <td>[{'value': 'Between E St and F St - Constructi...</td>\n",
       "      <td>{'ROAD_CLOSED': False, 'EVENT': {'EVENT_ITEM_C...</td>\n",
       "      <td>ACTIVE</td>\n",
       "      <td>CONSTRUCTION</td>\n",
       "      <td>True</td>\n",
       "    </tr>\n",
       "  </tbody>\n",
       "</table>\n",
       "</div>"
      ],
      "text/plain": [
       "                              CRITICALITY             END_TIME  \\\n",
       "0  {'ID': '0', 'DESCRIPTION': 'critical'}  01/12/2019 02:38:51   \n",
       "1     {'ID': '2', 'DESCRIPTION': 'minor'}  01/15/2019 09:38:51   \n",
       "\n",
       "            ENTRY_TIME                                           LOCATION  \\\n",
       "0  01/11/2019 21:40:54  {'INTERSECTION': {'ORIGIN': {'ID': '', 'STREET...   \n",
       "1  01/11/2019 09:39:20  {'INTERSECTION': {'ORIGIN': {'ID': '', 'STREET...   \n",
       "\n",
       "            START_TIME                           TRAFFIC_ITEM_DESCRIPTION  \\\n",
       "0  01/11/2019 21:40:54  [{'value': 'Closed between Causeway St and Ant...   \n",
       "1  01/11/2019 09:39:20  [{'value': 'Between E St and F St - Constructi...   \n",
       "\n",
       "                                 TRAFFIC_ITEM_DETAIL  \\\n",
       "0  {'ROAD_CLOSED': True, 'INCIDENT': {'RESPONSE_V...   \n",
       "1  {'ROAD_CLOSED': False, 'EVENT': {'EVENT_ITEM_C...   \n",
       "\n",
       "  TRAFFIC_ITEM_STATUS_SHORT_DESC TRAFFIC_ITEM_TYPE_DESC  VERIFIED  \n",
       "0                         ACTIVE           ROAD_CLOSURE      True  \n",
       "1                         ACTIVE           CONSTRUCTION      True  "
      ]
     },
     "execution_count": 56,
     "metadata": {},
     "output_type": "execute_result"
    }
   ],
   "source": [
    "incident_df_2 = incident_df.drop(axis=1, columns=['ABBREVIATION', 'ORIGINAL_TRAFFIC_ITEM_ID', 'PRODUCT', \n",
    "                                  'TRAFFIC_ITEM_ID', 'mid'])\n",
    "incident_df_2"
   ]
  },
  {
   "cell_type": "code",
   "execution_count": 61,
   "metadata": {},
   "outputs": [
    {
     "data": {
      "text/html": [
       "<div>\n",
       "<style scoped>\n",
       "    .dataframe tbody tr th:only-of-type {\n",
       "        vertical-align: middle;\n",
       "    }\n",
       "\n",
       "    .dataframe tbody tr th {\n",
       "        vertical-align: top;\n",
       "    }\n",
       "\n",
       "    .dataframe thead th {\n",
       "        text-align: right;\n",
       "    }\n",
       "</style>\n",
       "<table border=\"1\" class=\"dataframe\">\n",
       "  <thead>\n",
       "    <tr style=\"text-align: right;\">\n",
       "      <th></th>\n",
       "      <th>criticality</th>\n",
       "      <th>end_time</th>\n",
       "      <th>entry_time</th>\n",
       "      <th>location</th>\n",
       "      <th>start_time</th>\n",
       "      <th>traffic_item_description</th>\n",
       "      <th>traffic_item_detail</th>\n",
       "      <th>traffic_item_status_short_desc</th>\n",
       "      <th>traffic_item_type_desc</th>\n",
       "      <th>verified</th>\n",
       "    </tr>\n",
       "  </thead>\n",
       "  <tbody>\n",
       "    <tr>\n",
       "      <th>0</th>\n",
       "      <td>{'ID': '0', 'DESCRIPTION': 'critical'}</td>\n",
       "      <td>01/12/2019 02:38:51</td>\n",
       "      <td>01/11/2019 21:40:54</td>\n",
       "      <td>{'INTERSECTION': {'ORIGIN': {'ID': '', 'STREET...</td>\n",
       "      <td>01/11/2019 21:40:54</td>\n",
       "      <td>[{'value': 'Closed between Causeway St and Ant...</td>\n",
       "      <td>{'ROAD_CLOSED': True, 'INCIDENT': {'RESPONSE_V...</td>\n",
       "      <td>ACTIVE</td>\n",
       "      <td>ROAD_CLOSURE</td>\n",
       "      <td>True</td>\n",
       "    </tr>\n",
       "    <tr>\n",
       "      <th>1</th>\n",
       "      <td>{'ID': '2', 'DESCRIPTION': 'minor'}</td>\n",
       "      <td>01/15/2019 09:38:51</td>\n",
       "      <td>01/11/2019 09:39:20</td>\n",
       "      <td>{'INTERSECTION': {'ORIGIN': {'ID': '', 'STREET...</td>\n",
       "      <td>01/11/2019 09:39:20</td>\n",
       "      <td>[{'value': 'Between E St and F St - Constructi...</td>\n",
       "      <td>{'ROAD_CLOSED': False, 'EVENT': {'EVENT_ITEM_C...</td>\n",
       "      <td>ACTIVE</td>\n",
       "      <td>CONSTRUCTION</td>\n",
       "      <td>True</td>\n",
       "    </tr>\n",
       "  </tbody>\n",
       "</table>\n",
       "</div>"
      ],
      "text/plain": [
       "                              criticality             end_time  \\\n",
       "0  {'ID': '0', 'DESCRIPTION': 'critical'}  01/12/2019 02:38:51   \n",
       "1     {'ID': '2', 'DESCRIPTION': 'minor'}  01/15/2019 09:38:51   \n",
       "\n",
       "            entry_time                                           location  \\\n",
       "0  01/11/2019 21:40:54  {'INTERSECTION': {'ORIGIN': {'ID': '', 'STREET...   \n",
       "1  01/11/2019 09:39:20  {'INTERSECTION': {'ORIGIN': {'ID': '', 'STREET...   \n",
       "\n",
       "            start_time                           traffic_item_description  \\\n",
       "0  01/11/2019 21:40:54  [{'value': 'Closed between Causeway St and Ant...   \n",
       "1  01/11/2019 09:39:20  [{'value': 'Between E St and F St - Constructi...   \n",
       "\n",
       "                                 traffic_item_detail  \\\n",
       "0  {'ROAD_CLOSED': True, 'INCIDENT': {'RESPONSE_V...   \n",
       "1  {'ROAD_CLOSED': False, 'EVENT': {'EVENT_ITEM_C...   \n",
       "\n",
       "  traffic_item_status_short_desc traffic_item_type_desc  verified  \n",
       "0                         ACTIVE           ROAD_CLOSURE      True  \n",
       "1                         ACTIVE           CONSTRUCTION      True  "
      ]
     },
     "execution_count": 61,
     "metadata": {},
     "output_type": "execute_result"
    }
   ],
   "source": [
    "incident_df_2.rename(str.lower, axis=1, inplace=True)\n",
    "incident_df_2"
   ]
  },
  {
   "cell_type": "code",
   "execution_count": 66,
   "metadata": {},
   "outputs": [
    {
     "data": {
      "text/html": [
       "<div>\n",
       "<style scoped>\n",
       "    .dataframe tbody tr th:only-of-type {\n",
       "        vertical-align: middle;\n",
       "    }\n",
       "\n",
       "    .dataframe tbody tr th {\n",
       "        vertical-align: top;\n",
       "    }\n",
       "\n",
       "    .dataframe thead th {\n",
       "        text-align: right;\n",
       "    }\n",
       "</style>\n",
       "<table border=\"1\" class=\"dataframe\">\n",
       "  <thead>\n",
       "    <tr style=\"text-align: right;\">\n",
       "      <th></th>\n",
       "      <th>GEOLOC</th>\n",
       "      <th>INTERSECTION</th>\n",
       "      <th>LENGTH</th>\n",
       "      <th>NAVTECH</th>\n",
       "      <th>POLITICAL_BOUNDARY</th>\n",
       "      <th>TPEGOpenLRBase64</th>\n",
       "    </tr>\n",
       "  </thead>\n",
       "  <tbody>\n",
       "    <tr>\n",
       "      <th>0</th>\n",
       "      <td>{'ORIGIN': {'LATITUDE': 42.3652, 'LONGITUDE': ...</td>\n",
       "      <td>{'ORIGIN': {'ID': '', 'STREET1': {'ADDRESS1': ...</td>\n",
       "      <td>0.10796</td>\n",
       "      <td>{'EDGE': {'EDGE_ID': ['22013455']}, 'VERSION_I...</td>\n",
       "      <td>{'METRO_AREA': {'value': '', 'ID': 18}, 'COUNT...</td>\n",
       "      <td>NaN</td>\n",
       "    </tr>\n",
       "    <tr>\n",
       "      <th>1</th>\n",
       "      <td>{'ORIGIN': {'LATITUDE': 42.33651, 'LONGITUDE':...</td>\n",
       "      <td>{'ORIGIN': {'ID': '', 'STREET1': {'ADDRESS1': ...</td>\n",
       "      <td>0.10602</td>\n",
       "      <td>{'EDGE': {'EDGE_ID': ['22013004']}, 'VERSION_I...</td>\n",
       "      <td>{'METRO_AREA': {'value': '', 'ID': 18}, 'COUNT...</td>\n",
       "      <td>CCkBEAAlJM15lh4bIAAJBQQEA10ACgUEBIErAACc/5sACQ...</td>\n",
       "    </tr>\n",
       "  </tbody>\n",
       "</table>\n",
       "</div>"
      ],
      "text/plain": [
       "                                              GEOLOC  \\\n",
       "0  {'ORIGIN': {'LATITUDE': 42.3652, 'LONGITUDE': ...   \n",
       "1  {'ORIGIN': {'LATITUDE': 42.33651, 'LONGITUDE':...   \n",
       "\n",
       "                                        INTERSECTION   LENGTH  \\\n",
       "0  {'ORIGIN': {'ID': '', 'STREET1': {'ADDRESS1': ...  0.10796   \n",
       "1  {'ORIGIN': {'ID': '', 'STREET1': {'ADDRESS1': ...  0.10602   \n",
       "\n",
       "                                             NAVTECH  \\\n",
       "0  {'EDGE': {'EDGE_ID': ['22013455']}, 'VERSION_I...   \n",
       "1  {'EDGE': {'EDGE_ID': ['22013004']}, 'VERSION_I...   \n",
       "\n",
       "                                  POLITICAL_BOUNDARY  \\\n",
       "0  {'METRO_AREA': {'value': '', 'ID': 18}, 'COUNT...   \n",
       "1  {'METRO_AREA': {'value': '', 'ID': 18}, 'COUNT...   \n",
       "\n",
       "                                    TPEGOpenLRBase64  \n",
       "0                                                NaN  \n",
       "1  CCkBEAAlJM15lh4bIAAJBQQEA10ACgUEBIErAACc/5sACQ...  "
      ]
     },
     "execution_count": 66,
     "metadata": {},
     "output_type": "execute_result"
    }
   ],
   "source": [
    "loc_all = pd.DataFrame(list(incident_df_2['location']))\n",
    "loc_all"
   ]
  },
  {
   "cell_type": "code",
   "execution_count": 67,
   "metadata": {},
   "outputs": [
    {
     "data": {
      "text/html": [
       "<div>\n",
       "<style scoped>\n",
       "    .dataframe tbody tr th:only-of-type {\n",
       "        vertical-align: middle;\n",
       "    }\n",
       "\n",
       "    .dataframe tbody tr th {\n",
       "        vertical-align: top;\n",
       "    }\n",
       "\n",
       "    .dataframe thead th {\n",
       "        text-align: right;\n",
       "    }\n",
       "</style>\n",
       "<table border=\"1\" class=\"dataframe\">\n",
       "  <thead>\n",
       "    <tr style=\"text-align: right;\">\n",
       "      <th></th>\n",
       "      <th>ORIGIN</th>\n",
       "      <th>TO</th>\n",
       "    </tr>\n",
       "  </thead>\n",
       "  <tbody>\n",
       "    <tr>\n",
       "      <th>0</th>\n",
       "      <td>{'ID': '', 'STREET1': {'ADDRESS1': 'Friend St'...</td>\n",
       "      <td>{'ID': '', 'STREET1': {'ADDRESS1': 'Friend St'...</td>\n",
       "    </tr>\n",
       "    <tr>\n",
       "      <th>1</th>\n",
       "      <td>{'ID': '', 'STREET1': {'ADDRESS1': '5th St'}, ...</td>\n",
       "      <td>{'ID': '', 'STREET1': {'ADDRESS1': '5th St'}, ...</td>\n",
       "    </tr>\n",
       "  </tbody>\n",
       "</table>\n",
       "</div>"
      ],
      "text/plain": [
       "                                              ORIGIN  \\\n",
       "0  {'ID': '', 'STREET1': {'ADDRESS1': 'Friend St'...   \n",
       "1  {'ID': '', 'STREET1': {'ADDRESS1': '5th St'}, ...   \n",
       "\n",
       "                                                  TO  \n",
       "0  {'ID': '', 'STREET1': {'ADDRESS1': 'Friend St'...  \n",
       "1  {'ID': '', 'STREET1': {'ADDRESS1': '5th St'}, ...  "
      ]
     },
     "execution_count": 67,
     "metadata": {},
     "output_type": "execute_result"
    }
   ],
   "source": [
    "loc_intersec = pd.DataFrame(list(loc_all['INTERSECTION']))\n",
    "loc_intersec"
   ]
  },
  {
   "cell_type": "code",
   "execution_count": 68,
   "metadata": {},
   "outputs": [
    {
     "data": {
      "text/html": [
       "<div>\n",
       "<style scoped>\n",
       "    .dataframe tbody tr th:only-of-type {\n",
       "        vertical-align: middle;\n",
       "    }\n",
       "\n",
       "    .dataframe tbody tr th {\n",
       "        vertical-align: top;\n",
       "    }\n",
       "\n",
       "    .dataframe thead th {\n",
       "        text-align: right;\n",
       "    }\n",
       "</style>\n",
       "<table border=\"1\" class=\"dataframe\">\n",
       "  <thead>\n",
       "    <tr style=\"text-align: right;\">\n",
       "      <th></th>\n",
       "      <th>GEOMETRY</th>\n",
       "      <th>ORIGIN</th>\n",
       "      <th>TO</th>\n",
       "    </tr>\n",
       "  </thead>\n",
       "  <tbody>\n",
       "    <tr>\n",
       "      <th>0</th>\n",
       "      <td>{'SHAPES': {'SHP': [{'value': '42.3652,-71.061...</td>\n",
       "      <td>{'LATITUDE': 42.3652, 'LONGITUDE': -71.06181}</td>\n",
       "      <td>[{'LATITUDE': 42.36398, 'LONGITUDE': -71.06049}]</td>\n",
       "    </tr>\n",
       "    <tr>\n",
       "      <th>1</th>\n",
       "      <td>{'SHAPES': {'SHP': [{'value': '42.33651,-71.05...</td>\n",
       "      <td>{'LATITUDE': 42.33651, 'LONGITUDE': -71.05085}</td>\n",
       "      <td>[{'LATITUDE': 42.3355, 'LONGITUDE': -71.04929}]</td>\n",
       "    </tr>\n",
       "  </tbody>\n",
       "</table>\n",
       "</div>"
      ],
      "text/plain": [
       "                                            GEOMETRY  \\\n",
       "0  {'SHAPES': {'SHP': [{'value': '42.3652,-71.061...   \n",
       "1  {'SHAPES': {'SHP': [{'value': '42.33651,-71.05...   \n",
       "\n",
       "                                           ORIGIN  \\\n",
       "0   {'LATITUDE': 42.3652, 'LONGITUDE': -71.06181}   \n",
       "1  {'LATITUDE': 42.33651, 'LONGITUDE': -71.05085}   \n",
       "\n",
       "                                                 TO  \n",
       "0  [{'LATITUDE': 42.36398, 'LONGITUDE': -71.06049}]  \n",
       "1   [{'LATITUDE': 42.3355, 'LONGITUDE': -71.04929}]  "
      ]
     },
     "execution_count": 68,
     "metadata": {},
     "output_type": "execute_result"
    }
   ],
   "source": [
    "loc_coord = pd.DataFrame(list(loc_all['GEOLOC']))\n",
    "loc_coord"
   ]
  },
  {
   "cell_type": "code",
   "execution_count": 77,
   "metadata": {},
   "outputs": [
    {
     "data": {
      "text/plain": [
       "{'SHAPES': {'SHP': [{'value': '42.3652,-71.06181 42.36398,-71.06049',\n",
       "    'FC': 5,\n",
       "    'LID': '22013455T',\n",
       "    'LE': 173.749167315973,\n",
       "    'FW': 'SD'}]}}"
      ]
     },
     "execution_count": 77,
     "metadata": {},
     "output_type": "execute_result"
    }
   ],
   "source": [
    "loc_coord_shape = pd.Series(list(loc_coord['GEOMETRY']))\n",
    "loc_coord_shape[0]"
   ]
  }
 ],
 "metadata": {
  "kernelspec": {
   "display_name": "Python 3",
   "language": "python",
   "name": "python3"
  },
  "language_info": {
   "codemirror_mode": {
    "name": "ipython",
    "version": 3
   },
   "file_extension": ".py",
   "mimetype": "text/x-python",
   "name": "python",
   "nbconvert_exporter": "python",
   "pygments_lexer": "ipython3",
   "version": "3.6.8"
  },
  "varInspector": {
   "cols": {
    "lenName": 16,
    "lenType": 16,
    "lenVar": 40
   },
   "kernels_config": {
    "python": {
     "delete_cmd_postfix": "",
     "delete_cmd_prefix": "del ",
     "library": "var_list.py",
     "varRefreshCmd": "print(var_dic_list())"
    },
    "r": {
     "delete_cmd_postfix": ") ",
     "delete_cmd_prefix": "rm(",
     "library": "var_list.r",
     "varRefreshCmd": "cat(var_dic_list()) "
    }
   },
   "types_to_exclude": [
    "module",
    "function",
    "builtin_function_or_method",
    "instance",
    "_Feature"
   ],
   "window_display": false
  }
 },
 "nbformat": 4,
 "nbformat_minor": 2
}
