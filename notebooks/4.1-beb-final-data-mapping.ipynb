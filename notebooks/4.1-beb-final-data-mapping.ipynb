{
 "cells": [
  {
   "cell_type": "code",
   "execution_count": 1,
   "metadata": {},
   "outputs": [],
   "source": [
    "import pandas as pd\n",
    "import gmaps\n",
    "from ast import literal_eval\n",
    "\n",
    "from python_scripts.render_closures import render_closures\n",
    "from python_scripts.intersect_to_coords import intersect_to_coords\n",
    "from python_scripts.format_here_data import format_here_data\n",
    "import python_scripts.config as config\n",
    "\n",
    "gmaps.configure(api_key= config.gmaps_key)"
   ]
  },
  {
   "cell_type": "markdown",
   "metadata": {},
   "source": [
    "# The \"Finished\" Product\n",
    "\n",
    "In this notebook I will render a map of road closures including data from bother here.com and Twitter's API, to include in our presentation and to show the workflow of the map making process."
   ]
  },
  {
   "cell_type": "markdown",
   "metadata": {},
   "source": [
    "## Read and Format Data"
   ]
  },
  {
   "cell_type": "code",
   "execution_count": 2,
   "metadata": {},
   "outputs": [],
   "source": [
    "# read in the data\n",
    "here_data = pd.read_csv('../data/2-interim/here_maps_output_Houston, TX_2019-01-17-12PM')\n",
    "tweets = pd.read_csv('../data/3-final/output_tweets')"
   ]
  },
  {
   "cell_type": "code",
   "execution_count": 3,
   "metadata": {},
   "outputs": [
    {
     "data": {
      "text/html": [
       "<div>\n",
       "<style scoped>\n",
       "    .dataframe tbody tr th:only-of-type {\n",
       "        vertical-align: middle;\n",
       "    }\n",
       "\n",
       "    .dataframe tbody tr th {\n",
       "        vertical-align: top;\n",
       "    }\n",
       "\n",
       "    .dataframe thead th {\n",
       "        text-align: right;\n",
       "    }\n",
       "</style>\n",
       "<table border=\"1\" class=\"dataframe\">\n",
       "  <thead>\n",
       "    <tr style=\"text-align: right;\">\n",
       "      <th></th>\n",
       "      <th>city</th>\n",
       "      <th>start</th>\n",
       "      <th>end</th>\n",
       "      <th>text</th>\n",
       "    </tr>\n",
       "  </thead>\n",
       "  <tbody>\n",
       "    <tr>\n",
       "      <th>0</th>\n",
       "      <td>Houston, TX</td>\n",
       "      <td>288 S Fwy NB &amp;  The S Lp</td>\n",
       "      <td>288 S Fwy NB &amp; Reed Rd.</td>\n",
       "      <td>Closed due to road construction on 288 S Fwy N...</td>\n",
       "    </tr>\n",
       "    <tr>\n",
       "      <th>1</th>\n",
       "      <td>Houston, TX</td>\n",
       "      <td>S Sam Houston Tollway EB &amp; Hwy 288</td>\n",
       "      <td>S Sam Houston Tollway EB &amp; Cullen</td>\n",
       "      <td>Closed due to road construction in #Southside ...</td>\n",
       "    </tr>\n",
       "  </tbody>\n",
       "</table>\n",
       "</div>"
      ],
      "text/plain": [
       "          city                                start  \\\n",
       "0  Houston, TX             288 S Fwy NB &  The S Lp   \n",
       "1  Houston, TX  S Sam Houston Tollway EB & Hwy 288    \n",
       "\n",
       "                                  end  \\\n",
       "0            288 S Fwy NB & Reed Rd.    \n",
       "1  S Sam Houston Tollway EB & Cullen    \n",
       "\n",
       "                                                text  \n",
       "0  Closed due to road construction on 288 S Fwy N...  \n",
       "1  Closed due to road construction in #Southside ...  "
      ]
     },
     "execution_count": 3,
     "metadata": {},
     "output_type": "execute_result"
    }
   ],
   "source": [
    "# tweets format wasn't quite right. Let's try this:\n",
    "tweets.rename(index=str, columns={\"tweet\": \"text\"},inplace=True)\n",
    "tweets"
   ]
  },
  {
   "cell_type": "code",
   "execution_count": 4,
   "metadata": {},
   "outputs": [
    {
     "data": {
      "text/html": [
       "<div>\n",
       "<style scoped>\n",
       "    .dataframe tbody tr th:only-of-type {\n",
       "        vertical-align: middle;\n",
       "    }\n",
       "\n",
       "    .dataframe tbody tr th {\n",
       "        vertical-align: top;\n",
       "    }\n",
       "\n",
       "    .dataframe thead th {\n",
       "        text-align: right;\n",
       "    }\n",
       "</style>\n",
       "<table border=\"1\" class=\"dataframe\">\n",
       "  <thead>\n",
       "    <tr style=\"text-align: right;\">\n",
       "      <th></th>\n",
       "      <th>start</th>\n",
       "      <th>end</th>\n",
       "      <th>text</th>\n",
       "    </tr>\n",
       "  </thead>\n",
       "  <tbody>\n",
       "    <tr>\n",
       "      <th>0</th>\n",
       "      <td>(29.6307, -95.16875)</td>\n",
       "      <td>(29.630614, -95.171866)</td>\n",
       "      <td>None</td>\n",
       "    </tr>\n",
       "    <tr>\n",
       "      <th>1</th>\n",
       "      <td>(29.7369, -95.34869)</td>\n",
       "      <td>(29.73713, -95.34964)</td>\n",
       "      <td>None</td>\n",
       "    </tr>\n",
       "    <tr>\n",
       "      <th>2</th>\n",
       "      <td>(29.92321, -95.62916)</td>\n",
       "      <td>(29.92392, -95.62903)</td>\n",
       "      <td>None</td>\n",
       "    </tr>\n",
       "    <tr>\n",
       "      <th>3</th>\n",
       "      <td>(29.630513, -95.171997)</td>\n",
       "      <td>(29.63044, -95.16984)</td>\n",
       "      <td>None</td>\n",
       "    </tr>\n",
       "    <tr>\n",
       "      <th>4</th>\n",
       "      <td>(29.69674, -95.29231)</td>\n",
       "      <td>(29.69593, -95.29787)</td>\n",
       "      <td>None</td>\n",
       "    </tr>\n",
       "    <tr>\n",
       "      <th>5</th>\n",
       "      <td>(29.760211, -95.35475)</td>\n",
       "      <td>(29.76199, -95.35303)</td>\n",
       "      <td>None</td>\n",
       "    </tr>\n",
       "    <tr>\n",
       "      <th>6</th>\n",
       "      <td>(29.89392, -95.5892)</td>\n",
       "      <td>(29.89392, -95.5892)</td>\n",
       "      <td>None</td>\n",
       "    </tr>\n",
       "    <tr>\n",
       "      <th>7</th>\n",
       "      <td>(29.729192, -95.462069)</td>\n",
       "      <td>(29.726718, -95.467795)</td>\n",
       "      <td>None</td>\n",
       "    </tr>\n",
       "    <tr>\n",
       "      <th>8</th>\n",
       "      <td>(29.718169, -95.460046)</td>\n",
       "      <td>(29.721648, -95.459828)</td>\n",
       "      <td>None</td>\n",
       "    </tr>\n",
       "  </tbody>\n",
       "</table>\n",
       "</div>"
      ],
      "text/plain": [
       "                     start                      end  text\n",
       "0     (29.6307, -95.16875)  (29.630614, -95.171866)  None\n",
       "1     (29.7369, -95.34869)    (29.73713, -95.34964)  None\n",
       "2    (29.92321, -95.62916)    (29.92392, -95.62903)  None\n",
       "3  (29.630513, -95.171997)    (29.63044, -95.16984)  None\n",
       "4    (29.69674, -95.29231)    (29.69593, -95.29787)  None\n",
       "5   (29.760211, -95.35475)    (29.76199, -95.35303)  None\n",
       "6     (29.89392, -95.5892)     (29.89392, -95.5892)  None\n",
       "7  (29.729192, -95.462069)  (29.726718, -95.467795)  None\n",
       "8  (29.718169, -95.460046)  (29.721648, -95.459828)  None"
      ]
     },
     "execution_count": 4,
     "metadata": {},
     "output_type": "execute_result"
    }
   ],
   "source": [
    "# format the here.com data\n",
    "here_data = format_here_data(here_data)\n",
    "here_data"
   ]
  },
  {
   "cell_type": "code",
   "execution_count": 5,
   "metadata": {},
   "outputs": [
    {
     "data": {
      "text/html": [
       "<div>\n",
       "<style scoped>\n",
       "    .dataframe tbody tr th:only-of-type {\n",
       "        vertical-align: middle;\n",
       "    }\n",
       "\n",
       "    .dataframe tbody tr th {\n",
       "        vertical-align: top;\n",
       "    }\n",
       "\n",
       "    .dataframe thead th {\n",
       "        text-align: right;\n",
       "    }\n",
       "</style>\n",
       "<table border=\"1\" class=\"dataframe\">\n",
       "  <thead>\n",
       "    <tr style=\"text-align: right;\">\n",
       "      <th></th>\n",
       "      <th>start</th>\n",
       "      <th>end</th>\n",
       "      <th>text</th>\n",
       "    </tr>\n",
       "  </thead>\n",
       "  <tbody>\n",
       "    <tr>\n",
       "      <th>0</th>\n",
       "      <td>(29.7421856, -95.36452899999999)</td>\n",
       "      <td>(29.4867858, -95.39786819999999)</td>\n",
       "      <td>road construction</td>\n",
       "    </tr>\n",
       "    <tr>\n",
       "      <th>1</th>\n",
       "      <td>(29.66714289999999, -95.5605762)</td>\n",
       "      <td>(29.59933909999999, -95.35629120000002)</td>\n",
       "      <td>road construction</td>\n",
       "    </tr>\n",
       "    <tr>\n",
       "      <th>2</th>\n",
       "      <td>(29.6307, -95.16875)</td>\n",
       "      <td>(29.630614, -95.171866)</td>\n",
       "      <td>None</td>\n",
       "    </tr>\n",
       "    <tr>\n",
       "      <th>3</th>\n",
       "      <td>(29.7369, -95.34869)</td>\n",
       "      <td>(29.73713, -95.34964)</td>\n",
       "      <td>None</td>\n",
       "    </tr>\n",
       "    <tr>\n",
       "      <th>4</th>\n",
       "      <td>(29.92321, -95.62916)</td>\n",
       "      <td>(29.92392, -95.62903)</td>\n",
       "      <td>None</td>\n",
       "    </tr>\n",
       "    <tr>\n",
       "      <th>5</th>\n",
       "      <td>(29.630513, -95.171997)</td>\n",
       "      <td>(29.63044, -95.16984)</td>\n",
       "      <td>None</td>\n",
       "    </tr>\n",
       "    <tr>\n",
       "      <th>6</th>\n",
       "      <td>(29.69674, -95.29231)</td>\n",
       "      <td>(29.69593, -95.29787)</td>\n",
       "      <td>None</td>\n",
       "    </tr>\n",
       "    <tr>\n",
       "      <th>7</th>\n",
       "      <td>(29.760211, -95.35475)</td>\n",
       "      <td>(29.76199, -95.35303)</td>\n",
       "      <td>None</td>\n",
       "    </tr>\n",
       "    <tr>\n",
       "      <th>8</th>\n",
       "      <td>(29.89392, -95.5892)</td>\n",
       "      <td>(29.89392, -95.5892)</td>\n",
       "      <td>None</td>\n",
       "    </tr>\n",
       "    <tr>\n",
       "      <th>9</th>\n",
       "      <td>(29.729192, -95.462069)</td>\n",
       "      <td>(29.726718, -95.467795)</td>\n",
       "      <td>None</td>\n",
       "    </tr>\n",
       "    <tr>\n",
       "      <th>10</th>\n",
       "      <td>(29.718169, -95.460046)</td>\n",
       "      <td>(29.721648, -95.459828)</td>\n",
       "      <td>None</td>\n",
       "    </tr>\n",
       "  </tbody>\n",
       "</table>\n",
       "</div>"
      ],
      "text/plain": [
       "                               start                                      end  \\\n",
       "0   (29.7421856, -95.36452899999999)         (29.4867858, -95.39786819999999)   \n",
       "1   (29.66714289999999, -95.5605762)  (29.59933909999999, -95.35629120000002)   \n",
       "2               (29.6307, -95.16875)                  (29.630614, -95.171866)   \n",
       "3               (29.7369, -95.34869)                    (29.73713, -95.34964)   \n",
       "4              (29.92321, -95.62916)                    (29.92392, -95.62903)   \n",
       "5            (29.630513, -95.171997)                    (29.63044, -95.16984)   \n",
       "6              (29.69674, -95.29231)                    (29.69593, -95.29787)   \n",
       "7             (29.760211, -95.35475)                    (29.76199, -95.35303)   \n",
       "8               (29.89392, -95.5892)                     (29.89392, -95.5892)   \n",
       "9            (29.729192, -95.462069)                  (29.726718, -95.467795)   \n",
       "10           (29.718169, -95.460046)                  (29.721648, -95.459828)   \n",
       "\n",
       "                 text  \n",
       "0   road construction  \n",
       "1   road construction  \n",
       "2                None  \n",
       "3                None  \n",
       "4                None  \n",
       "5                None  \n",
       "6                None  \n",
       "7                None  \n",
       "8                None  \n",
       "9                None  \n",
       "10               None  "
      ]
     },
     "execution_count": 5,
     "metadata": {},
     "output_type": "execute_result"
    }
   ],
   "source": [
    "# geocode the Twitter intersections, append the closures to here_data\n",
    "# Google Maps API doesn't allow more than 10 closures per map\n",
    "all_closures = intersect_to_coords(tweets,here_data)[:11]\n",
    "\n",
    "# I'll manually alter the two labels we have. Future versions of the project could use a\n",
    "# model to extract the relevant label data\n",
    "all_closures.text[:2] = 'road construction'\n",
    "all_closures"
   ]
  },
  {
   "cell_type": "code",
   "execution_count": 6,
   "metadata": {},
   "outputs": [
    {
     "name": "stdout",
     "output_type": "stream",
     "text": [
      "<class 'pandas.core.frame.DataFrame'>\n",
      "RangeIndex: 11 entries, 0 to 10\n",
      "Data columns (total 3 columns):\n",
      "start    11 non-null object\n",
      "end      11 non-null object\n",
      "text     2 non-null object\n",
      "dtypes: object(3)\n",
      "memory usage: 344.0+ bytes\n"
     ]
    }
   ],
   "source": [
    "all_closures.info()"
   ]
  },
  {
   "cell_type": "code",
   "execution_count": 7,
   "metadata": {},
   "outputs": [
    {
     "data": {
      "text/html": [
       "<div>\n",
       "<style scoped>\n",
       "    .dataframe tbody tr th:only-of-type {\n",
       "        vertical-align: middle;\n",
       "    }\n",
       "\n",
       "    .dataframe tbody tr th {\n",
       "        vertical-align: top;\n",
       "    }\n",
       "\n",
       "    .dataframe thead th {\n",
       "        text-align: right;\n",
       "    }\n",
       "</style>\n",
       "<table border=\"1\" class=\"dataframe\">\n",
       "  <thead>\n",
       "    <tr style=\"text-align: right;\">\n",
       "      <th></th>\n",
       "      <th>start</th>\n",
       "      <th>end</th>\n",
       "      <th>text</th>\n",
       "    </tr>\n",
       "  </thead>\n",
       "  <tbody>\n",
       "    <tr>\n",
       "      <th>0</th>\n",
       "      <td>(29.66714289999999, -95.5605762)</td>\n",
       "      <td>(29.59933909999999, -95.35629120000002)</td>\n",
       "      <td>road construction</td>\n",
       "    </tr>\n",
       "    <tr>\n",
       "      <th>1</th>\n",
       "      <td>(29.6307, -95.16875)</td>\n",
       "      <td>(29.630614, -95.171866)</td>\n",
       "      <td>None</td>\n",
       "    </tr>\n",
       "    <tr>\n",
       "      <th>2</th>\n",
       "      <td>(29.7369, -95.34869)</td>\n",
       "      <td>(29.73713, -95.34964)</td>\n",
       "      <td>None</td>\n",
       "    </tr>\n",
       "    <tr>\n",
       "      <th>3</th>\n",
       "      <td>(29.92321, -95.62916)</td>\n",
       "      <td>(29.92392, -95.62903)</td>\n",
       "      <td>None</td>\n",
       "    </tr>\n",
       "    <tr>\n",
       "      <th>4</th>\n",
       "      <td>(29.630513, -95.171997)</td>\n",
       "      <td>(29.63044, -95.16984)</td>\n",
       "      <td>None</td>\n",
       "    </tr>\n",
       "    <tr>\n",
       "      <th>5</th>\n",
       "      <td>(29.69674, -95.29231)</td>\n",
       "      <td>(29.69593, -95.29787)</td>\n",
       "      <td>None</td>\n",
       "    </tr>\n",
       "    <tr>\n",
       "      <th>6</th>\n",
       "      <td>(29.760211, -95.35475)</td>\n",
       "      <td>(29.76199, -95.35303)</td>\n",
       "      <td>None</td>\n",
       "    </tr>\n",
       "    <tr>\n",
       "      <th>7</th>\n",
       "      <td>(29.729192, -95.462069)</td>\n",
       "      <td>(29.726718, -95.467795)</td>\n",
       "      <td>None</td>\n",
       "    </tr>\n",
       "    <tr>\n",
       "      <th>8</th>\n",
       "      <td>(29.718169, -95.460046)</td>\n",
       "      <td>(29.721648, -95.459828)</td>\n",
       "      <td>None</td>\n",
       "    </tr>\n",
       "  </tbody>\n",
       "</table>\n",
       "</div>"
      ],
      "text/plain": [
       "                              start                                      end  \\\n",
       "0  (29.66714289999999, -95.5605762)  (29.59933909999999, -95.35629120000002)   \n",
       "1              (29.6307, -95.16875)                  (29.630614, -95.171866)   \n",
       "2              (29.7369, -95.34869)                    (29.73713, -95.34964)   \n",
       "3             (29.92321, -95.62916)                    (29.92392, -95.62903)   \n",
       "4           (29.630513, -95.171997)                    (29.63044, -95.16984)   \n",
       "5             (29.69674, -95.29231)                    (29.69593, -95.29787)   \n",
       "6            (29.760211, -95.35475)                    (29.76199, -95.35303)   \n",
       "7           (29.729192, -95.462069)                  (29.726718, -95.467795)   \n",
       "8           (29.718169, -95.460046)                  (29.721648, -95.459828)   \n",
       "\n",
       "                text  \n",
       "0  road construction  \n",
       "1               None  \n",
       "2               None  \n",
       "3               None  \n",
       "4               None  \n",
       "5               None  \n",
       "6               None  \n",
       "7               None  \n",
       "8               None  "
      ]
     },
     "execution_count": 7,
     "metadata": {},
     "output_type": "execute_result"
    }
   ],
   "source": [
    "# One row's start and end points were the same, which throws errors\n",
    "all_closures.drop([0,8],inplace=True)\n",
    "all_closures.reset_index(drop=True,inplace=True)\n",
    "all_closures"
   ]
  },
  {
   "cell_type": "markdown",
   "metadata": {},
   "source": [
    "## Render Map"
   ]
  },
  {
   "cell_type": "code",
   "execution_count": 8,
   "metadata": {
    "scrolled": false
   },
   "outputs": [
    {
     "data": {
      "application/vnd.jupyter.widget-view+json": {
       "model_id": "9d44ff7bb2b84e0abda9a773583b7632",
       "version_major": 2,
       "version_minor": 0
      },
      "text/plain": [
       "Figure(layout=FigureLayout(height='400px', margin='0 auto 0 auto', padding='1px', width='700px'))"
      ]
     },
     "metadata": {},
     "output_type": "display_data"
    }
   ],
   "source": [
    "# Now we render the road closures using Google Maps\n",
    "render_closures(all_closures)"
   ]
  },
  {
   "cell_type": "markdown",
   "metadata": {},
   "source": [
    "## Export Final DataFrame\n",
    "\n",
    "For thoroughness's sake."
   ]
  },
  {
   "cell_type": "code",
   "execution_count": 10,
   "metadata": {},
   "outputs": [],
   "source": [
    "all_closures.to_csv('../data/3-final/final-closure-df.csv')"
   ]
  },
  {
   "cell_type": "code",
   "execution_count": null,
   "metadata": {},
   "outputs": [],
   "source": []
  }
 ],
 "metadata": {
  "kernelspec": {
   "display_name": "Python 3",
   "language": "python",
   "name": "python3"
  },
  "language_info": {
   "codemirror_mode": {
    "name": "ipython",
    "version": 3
   },
   "file_extension": ".py",
   "mimetype": "text/x-python",
   "name": "python",
   "nbconvert_exporter": "python",
   "pygments_lexer": "ipython3",
   "version": "3.6.8"
  }
 },
 "nbformat": 4,
 "nbformat_minor": 2
}
